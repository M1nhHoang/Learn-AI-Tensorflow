{
 "cells": [
  {
   "cell_type": "code",
   "execution_count": 1,
   "id": "410d2b86",
   "metadata": {},
   "outputs": [],
   "source": [
    "import tensorflow as tf\n",
    "from tensorflow.keras.layers import Input, LSTM, Embedding, Dense, TimeDistributed\n",
    "from tensorflow.keras.models import Model\n",
    "from tensorflow.keras.preprocessing.text import Tokenizer\n",
    "from tensorflow.keras.preprocessing.sequence import pad_sequences\n",
    "import numpy as np\n",
    "\n",
    "# Set random seed for reproducibility\n",
    "np.random.seed(42)\n",
    "tf.random.set_seed(42)"
   ]
  },
  {
   "cell_type": "code",
   "execution_count": 2,
   "id": "5531fe0d",
   "metadata": {},
   "outputs": [],
   "source": [
    "# đường dẫn tới file chứa dữ liệu câu hỏi và câu trả lời\n",
    "data_path = 'C:/Users/HP/Desktop/chatbotDataset.txt'\n",
    "\n",
    "# đọc dữ liệu từ file\n",
    "with open(data_path, 'r', encoding='utf8') as f:\n",
    "    lines = f.read().split('\\n')"
   ]
  },
  {
   "cell_type": "code",
   "execution_count": 3,
   "id": "ee4096ab",
   "metadata": {},
   "outputs": [],
   "source": [
    "# Define input and output sequences\n",
    "questions = []\n",
    "answers = []\n",
    "\n",
    "for line in lines:\n",
    "    if line:\n",
    "        line = line.strip()\n",
    "        parts = line.split(\":\")\n",
    "        if len(parts) == 2:\n",
    "            questions.append(parts[0])\n",
    "            answers.append(parts[1])"
   ]
  },
  {
   "cell_type": "code",
   "execution_count": 4,
   "id": "a5d6d113",
   "metadata": {},
   "outputs": [
    {
     "name": "stdout",
     "output_type": "stream",
     "text": [
      "1075\n",
      "1075\n"
     ]
    }
   ],
   "source": [
    "print(len(questions))\n",
    "print(len(answers))"
   ]
  },
  {
   "cell_type": "code",
   "execution_count": 5,
   "id": "4abb2076",
   "metadata": {},
   "outputs": [],
   "source": [
    "# Set parameters\n",
    "vocab_size = 10000\n",
    "maxlen = 50\n",
    "embedding_dim = 100\n",
    "batch_size = 32\n",
    "epochs = 50\n",
    "\n",
    "# Tokenize input and output sequences\n",
    "tokenizer = Tokenizer(num_words=vocab_size, oov_token='<OOV>')\n",
    "tokenizer.fit_on_texts(questions + answers)\n",
    "question_seqs = tokenizer.texts_to_sequences(questions)\n",
    "answer_seqs = tokenizer.texts_to_sequences(answers)\n",
    "\n",
    "# Pad input and output sequences\n",
    "question_seqs = pad_sequences(question_seqs, maxlen=maxlen, padding='post', truncating='post')\n",
    "answer_seqs = pad_sequences(answer_seqs, maxlen=maxlen, padding='post', truncating='post')"
   ]
  },
  {
   "cell_type": "code",
   "execution_count": 44,
   "id": "a0b298c6",
   "metadata": {},
   "outputs": [],
   "source": [
    "def create_model():\n",
    "    inputs = Input(shape=(maxlen,))\n",
    "    x = Embedding(input_dim=len(tokenizer.word_index)+1, output_dim=embedding_dim, input_length=maxlen)(inputs)\n",
    "    x = LSTM(128, return_sequences=True)(x)\n",
    "    x = LSTM(256, return_sequences=True)(x)\n",
    "    x = LSTM(512, return_sequences=True)(x)\n",
    "    outputs = TimeDistributed(Dense(len(tokenizer.word_index)+1, activation='softmax'))(x)\n",
    "\n",
    "    model = Model(inputs, outputs)\n",
    "\n",
    "    model.compile(loss='categorical_crossentropy', optimizer='adam')\n",
    "    \n",
    "    return model"
   ]
  },
  {
   "cell_type": "code",
   "execution_count": 45,
   "id": "791b1a2e",
   "metadata": {},
   "outputs": [
    {
     "name": "stdout",
     "output_type": "stream",
     "text": [
      "Model: \"model_3\"\n",
      "_________________________________________________________________\n",
      " Layer (type)                Output Shape              Param #   \n",
      "=================================================================\n",
      " input_4 (InputLayer)        [(None, 50)]              0         \n",
      "                                                                 \n",
      " embedding_3 (Embedding)     (None, 50, 100)           106000    \n",
      "                                                                 \n",
      " lstm_8 (LSTM)               (None, 50, 128)           117248    \n",
      "                                                                 \n",
      " lstm_9 (LSTM)               (None, 50, 256)           394240    \n",
      "                                                                 \n",
      " lstm_10 (LSTM)              (None, 50, 512)           1574912   \n",
      "                                                                 \n",
      " time_distributed_3 (TimeDis  (None, 50, 1060)         543780    \n",
      " tributed)                                                       \n",
      "                                                                 \n",
      "=================================================================\n",
      "Total params: 2,736,180\n",
      "Trainable params: 2,736,180\n",
      "Non-trainable params: 0\n",
      "_________________________________________________________________\n"
     ]
    }
   ],
   "source": [
    "model = create_model()\n",
    "model.summary()"
   ]
  },
  {
   "cell_type": "code",
   "execution_count": 46,
   "id": "8daf975a",
   "metadata": {},
   "outputs": [
    {
     "name": "stdout",
     "output_type": "stream",
     "text": [
      "Epoch 1/10\n",
      "14/14 [==============================] - 18s 1s/step - loss: 2.9821 - val_loss: 0.9532\n",
      "Epoch 2/10\n",
      "14/14 [==============================] - 15s 1s/step - loss: 1.0522 - val_loss: 0.8615\n",
      "Epoch 3/10\n",
      "14/14 [==============================] - 15s 1s/step - loss: 0.9509 - val_loss: 0.8324\n",
      "Epoch 4/10\n",
      "14/14 [==============================] - 16s 1s/step - loss: 0.9030 - val_loss: 0.8116\n",
      "Epoch 5/10\n",
      "14/14 [==============================] - 16s 1s/step - loss: 0.8691 - val_loss: 0.7936\n",
      "Epoch 6/10\n",
      "14/14 [==============================] - 16s 1s/step - loss: 0.8340 - val_loss: 0.7564\n",
      "Epoch 7/10\n",
      "14/14 [==============================] - 16s 1s/step - loss: 0.8096 - val_loss: 0.7448\n",
      "Epoch 8/10\n",
      "14/14 [==============================] - 15s 1s/step - loss: 0.7936 - val_loss: 0.7338\n",
      "Epoch 9/10\n",
      "14/14 [==============================] - 14s 1s/step - loss: 0.7757 - val_loss: 0.7267\n",
      "Epoch 10/10\n",
      "14/14 [==============================] - 15s 1s/step - loss: 0.7603 - val_loss: 0.7260\n"
     ]
    }
   ],
   "source": [
    "epochs = 10\n",
    "batch_size = 64\n",
    "with tf.device('/gpu:0'):\n",
    "    history = model.fit(question_seqs, tf.keras.utils.to_categorical(answer_seqs), \n",
    "                    batch_size=batch_size, epochs=epochs, validation_split=0.2)"
   ]
  },
  {
   "cell_type": "code",
   "execution_count": 47,
   "id": "a892bf08",
   "metadata": {},
   "outputs": [
    {
     "data": {
      "image/png": "[encoded data removed]",
      "text/plain": [
       "<Figure size 432x288 with 1 Axes>"
      ]
     },
     "metadata": {
      "needs_background": "light"
     },
     "output_type": "display_data"
    }
   ],
   "source": [
    "import matplotlib.pyplot as plt\n",
    "plt.plot(history.history['val_loss'], c = 'coral', label = 'validation loss line')\n",
    "plt.plot(history.history['loss'], c = 'blue', label = 'train loss line')\n",
    "legend = plt.legend(loc='upper center')\n",
    "plt.show()"
   ]
  },
  {
   "cell_type": "code",
   "execution_count": 51,
   "id": "7e3a1c81",
   "metadata": {},
   "outputs": [
    {
     "name": "stdout",
     "output_type": "stream",
     "text": [
      "1/1 [==============================] - 1s 667ms/step\n",
      "<OOV>\n"
     ]
    }
   ],
   "source": [
    "question = [\"chào bạn\"]\n",
    "question_seq = tokenizer.texts_to_sequences(question)\n",
    "question_seq = pad_sequences(question_seq, maxlen=maxlen, padding='post', truncating='post')\n",
    "\n",
    "answer_seq = model.predict(question_seq)\n",
    "answer = np.argmax(answer_seq, axis=-1)\n",
    "answer = tokenizer.sequences_to_texts(answer)\n",
    "print(answer[0].replace(' <OOV>',''))"
   ]
  },
  {
   "cell_type": "code",
   "execution_count": null,
   "id": "ee131335",
   "metadata": {},
   "outputs": [],
   "source": []
  }
 ],
 "metadata": {
  "kernelspec": {
   "display_name": "Python 3 (ipykernel)",
   "language": "python",
   "name": "python3"
  },
  "language_info": {
   "codemirror_mode": {
    "name": "ipython",
    "version": 3
   },
   "file_extension": ".py",
   "mimetype": "text/x-python",
   "name": "python",
   "nbconvert_exporter": "python",
   "pygments_lexer": "ipython3",
   "version": "3.9.5"
  }
 },
 "nbformat": 4,
 "nbformat_minor": 5
}
