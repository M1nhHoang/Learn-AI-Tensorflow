{
 "cells": [
  {
   "cell_type": "code",
   "execution_count": 1,
   "id": "9e20ff3a",
   "metadata": {},
   "outputs": [],
   "source": [
    "import numpy as np\n",
    "from sklearn.feature_extraction.text import TfidfVectorizer\n",
    "from sklearn.metrics.pairwise import cosine_similarity"
   ]
  },
  {
   "cell_type": "code",
   "execution_count": 8,
   "id": "2e451217",
   "metadata": {},
   "outputs": [
    {
     "name": "stdout",
     "output_type": "stream",
     "text": [
      "12859\n"
     ]
    }
   ],
   "source": [
    "data_path = './chatDataSet.txt'\n",
    "\n",
    "# đọc dữ liệu từ file\n",
    "with open(data_path, 'r', encoding='utf8') as f:\n",
    "    lines = f.read().split('\\n')\n",
    "    \n",
    "data = [line.split(\":\") for line in lines if len(line.split(\":\")) == 2]\n",
    "print(len(data))"
   ]
  },
  {
   "cell_type": "code",
   "execution_count": 9,
   "id": "e4851249",
   "metadata": {},
   "outputs": [],
   "source": [
    "# bấm giờ\n",
    "import time\n",
    "\n",
    "def time_it(func):\n",
    "    def wrapper(*args, **kwargs):\n",
    "        start = time.time()\n",
    "        result = func(*args, **kwargs)\n",
    "        end = time.time()\n",
    "        print(f\"Thời gian chạy của {func.__name__}: {end - start:.5f} giây\")\n",
    "        return result\n",
    "    return wrapper"
   ]
  },
  {
   "cell_type": "code",
   "execution_count": 10,
   "id": "4454f83b",
   "metadata": {},
   "outputs": [],
   "source": [
    "@time_it\n",
    "def locDataset():\n",
    "    unique_lines = set(line for line in lines if len(line.split(\":\")) == 2 and \n",
    "                        'tôi không biết làm thế nào để trả lời . dạy tôi câu trả lời' not in line and \n",
    "                        'required parameter is not present' not in line)\n",
    "    print(len(unique_lines))\n",
    "    return unique_lines"
   ]
  },
  {
   "cell_type": "code",
   "execution_count": 11,
   "id": "f231fb28",
   "metadata": {},
   "outputs": [],
   "source": [
    "questions = [d[0] for d in data]\n",
    "answers = [d[1] for d in data]"
   ]
  },
  {
   "cell_type": "code",
   "execution_count": 16,
   "id": "facafbce",
   "metadata": {},
   "outputs": [
    {
     "data": {
      "text/plain": [
       "[]"
      ]
     },
     "execution_count": 16,
     "metadata": {},
     "output_type": "execute_result"
    }
   ],
   "source": [
    "my_question = \"1234\"\n",
    "# Tạo ma trận TF-IDF cho tất cả câu hỏi trong corpus và câu hỏi mới\n",
    "vectorizer = TfidfVectorizer()\n",
    "tfidf_matrix = vectorizer.fit_transform(questions + [my_question])\n",
    "\n",
    "# Tính toán cosine similarity giữa câu hỏi mới và tất cả câu hỏi trong corpus\n",
    "cosine_similarities = cosine_similarity(tfidf_matrix[-1], tfidf_matrix[:-1]).flatten()\n",
    "\n",
    "answer_rate = []\n",
    "# In ra các giá trị cosine similarity\n",
    "for i, sim in enumerate(cosine_similarities):\n",
    "    if sim > 0.5:\n",
    "        answer_rate.append([questions[i], answers[i], sim])\n",
    "        \n",
    "filtered_list = [element for element in answer_rate if element[2] >= 0.1]\n",
    "filtered_list"
   ]
  },
  {
   "cell_type": "code",
   "execution_count": null,
   "id": "37658893",
   "metadata": {},
   "outputs": [],
   "source": []
  }
 ],
 "metadata": {
  "kernelspec": {
   "display_name": "Python 3 (ipykernel)",
   "language": "python",
   "name": "python3"
  },
  "language_info": {
   "codemirror_mode": {
    "name": "ipython",
    "version": 3
   },
   "file_extension": ".py",
   "mimetype": "text/x-python",
   "name": "python",
   "nbconvert_exporter": "python",
   "pygments_lexer": "ipython3",
   "version": "3.9.5"
  }
 },
 "nbformat": 4,
 "nbformat_minor": 5
}
