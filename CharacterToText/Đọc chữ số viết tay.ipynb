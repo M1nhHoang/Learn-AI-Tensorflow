{
 "cells": [
  {
   "cell_type": "code",
   "execution_count": 2,
   "id": "bafbec5a",
   "metadata": {},
   "outputs": [],
   "source": [
    "data = pd.read_excel(r'C:\\Users\\HP\\Desktop\\CharacterToText\\Img\\english.xlsx')\n",
    "data_image = data['image']\n",
    "data_label = data['label']"
   ]
  },
  {
   "cell_type": "code",
   "execution_count": 1,
   "id": "906a699a",
   "metadata": {},
   "outputs": [],
   "source": [
    "import openpyxl\n",
    "import pandas as pd\n",
    "import numpy as np\n",
    "from PIL import Image\n",
    "import tensorflow as tf"
   ]
  },
  {
   "cell_type": "code",
   "execution_count": 3,
   "id": "e163cf35",
   "metadata": {},
   "outputs": [],
   "source": [
    "url_dir = r'C:\\Users\\HP\\Desktop\\CharacterToText\\Img\\\\'\n",
    "image_list = []\n",
    "for image in data_image:\n",
    "    img = np.array(Image.open(url_dir+image[image.find('/'):]).convert('L').resize((50, 50))).reshape(50, 50, 1)\n",
    "    image_list.append(img)"
   ]
  },
  {
   "cell_type": "code",
   "execution_count": 38,
   "id": "c5793a72",
   "metadata": {},
   "outputs": [
    {
     "name": "stdout",
     "output_type": "stream",
     "text": [
      "[0, 1, 2, 3, 4, 5, 6, 7, 8, 9, 'X', 'Q', 'a', 'h', 's', 'N', 'u', 'Y', 'b', 'l', 'H', 'i', 'j', 'o', 'r', 'V', 'n', 'c', 'f', 'D', 'C', 'S', 'e', 'E', 'm', 'p', 'U', 'F', 'L', 'g', 'B', 'G', 'T', 'I', 'R', 'v', 'A', 'W', 'k', 'x', 'y', 'q', 'J', 't', 'Z', 'd', 'z', 'M', 'w', 'O', 'P', 'K']\n"
     ]
    },
    {
     "data": {
      "text/plain": [
       "62"
      ]
     },
     "execution_count": 38,
     "metadata": {},
     "output_type": "execute_result"
    }
   ],
   "source": [
    "char_ = list(set(label for label in data_label))\n",
    "print(char_)\n",
    "image = image_list\n",
    "label = [char_.index(label) for label in data_label]\n",
    "\n",
    "from sklearn.model_selection import train_test_split\n",
    "x_train, x_val, y_train, y_val = train_test_split(image, label, test_size = 0.2)\n",
    "len(char_)"
   ]
  },
  {
   "cell_type": "code",
   "execution_count": 39,
   "id": "b394bfb5",
   "metadata": {},
   "outputs": [
    {
     "data": {
      "image/png": "[encoded data removed]",
      "text/plain": [
       "<Figure size 432x288 with 9 Axes>"
      ]
     },
     "metadata": {
      "needs_background": "light"
     },
     "output_type": "display_data"
    }
   ],
   "source": [
    "# vẽ một số dữ liệu ở tập train\n",
    "import matplotlib.pyplot as plt\n",
    "for i in range(9):\n",
    "    plt.subplot(3, 3, i+1)\n",
    "    plt.title(str(y_train[i]))\n",
    "    plt.imshow(x_train[i])"
   ]
  },
  {
   "cell_type": "code",
   "execution_count": 40,
   "id": "e95c478d",
   "metadata": {},
   "outputs": [
    {
     "name": "stdout",
     "output_type": "stream",
     "text": [
      "(2728, 50, 50, 1)\n",
      "(2728,)\n",
      "(682, 50, 50, 1)\n",
      "(682,)\n"
     ]
    }
   ],
   "source": [
    "x_train, y_train, x_val, y_val = np.array(x_train),  np.array(y_train), np.array(x_val), np.array(y_val)\n",
    "\n",
    "print(x_train.shape)\n",
    "print(y_train.shape)\n",
    "print(x_val.shape)\n",
    "print(y_val.shape)"
   ]
  },
  {
   "cell_type": "code",
   "execution_count": 41,
   "id": "13d672a4",
   "metadata": {},
   "outputs": [],
   "source": [
    "# chuyển dữ liệu x_train về khoảng 0 và 1\n",
    "from tensorflow.keras.utils import to_categorical\n",
    "x_train, x_val = x_train/ 255.0, x_val/ 255.0"
   ]
  },
  {
   "cell_type": "code",
   "execution_count": 42,
   "id": "c2f32a21",
   "metadata": {},
   "outputs": [],
   "source": [
    "def create_model():\n",
    "    from tensorflow.keras import models, layers\n",
    "    \n",
    "    model = tf.keras.models.Sequential()\n",
    "    \n",
    "    #Input Layer 28x28\n",
    "    model.add(layers.Conv2D(28, (3, 3),padding='same', activation = 'relu', input_shape = (50, 50, 1)))\n",
    "\n",
    "    #Maxpooling \n",
    "    model.add(layers.MaxPooling2D((2, 2))) #14x14\n",
    "    model.add(layers.Conv2D(56, (3, 3),padding='same', activation = 'relu'))\n",
    "\n",
    "    #Maxpooling \n",
    "    model.add(layers.MaxPooling2D((2, 2))) #7x7\n",
    "    model.add(layers.Conv2D(56, (3, 3),padding='same', activation = 'relu'))\n",
    "\n",
    "    #Flatten\n",
    "    model.add(layers.Flatten())\n",
    "    model.add(layers.Dense(56, activation = 'relu'))\n",
    "    model.add(layers.Dense(62))\n",
    "    \n",
    "    model.compile(loss=tf.keras.losses.SparseCategoricalCrossentropy(from_logits = True), optimizer='adam', metrics=['accuracy'])\n",
    "    \n",
    "    return model"
   ]
  },
  {
   "cell_type": "code",
   "execution_count": 43,
   "id": "43897c39",
   "metadata": {},
   "outputs": [
    {
     "name": "stdout",
     "output_type": "stream",
     "text": [
      "Model: \"sequential_3\"\n",
      "_________________________________________________________________\n",
      " Layer (type)                Output Shape              Param #   \n",
      "=================================================================\n",
      " conv2d_9 (Conv2D)           (None, 50, 50, 28)        280       \n",
      "                                                                 \n",
      " max_pooling2d_6 (MaxPooling  (None, 25, 25, 28)       0         \n",
      " 2D)                                                             \n",
      "                                                                 \n",
      " conv2d_10 (Conv2D)          (None, 25, 25, 56)        14168     \n",
      "                                                                 \n",
      " max_pooling2d_7 (MaxPooling  (None, 12, 12, 56)       0         \n",
      " 2D)                                                             \n",
      "                                                                 \n",
      " conv2d_11 (Conv2D)          (None, 12, 12, 56)        28280     \n",
      "                                                                 \n",
      " flatten_3 (Flatten)         (None, 8064)              0         \n",
      "                                                                 \n",
      " dense_6 (Dense)             (None, 56)                451640    \n",
      "                                                                 \n",
      " dense_7 (Dense)             (None, 62)                3534      \n",
      "                                                                 \n",
      "=================================================================\n",
      "Total params: 497,902\n",
      "Trainable params: 497,902\n",
      "Non-trainable params: 0\n",
      "_________________________________________________________________\n"
     ]
    }
   ],
   "source": [
    "model = create_model()\n",
    "model.summary()"
   ]
  },
  {
   "cell_type": "code",
   "execution_count": 44,
   "id": "09ec3ced",
   "metadata": {},
   "outputs": [
    {
     "name": "stdout",
     "output_type": "stream",
     "text": [
      "Epoch 1/20\n",
      "86/86 [==============================] - 2s 19ms/step - loss: 4.1259 - accuracy: 0.0150 - val_loss: 4.0844 - val_accuracy: 0.0220\n",
      "Epoch 2/20\n",
      "86/86 [==============================] - 1s 13ms/step - loss: 3.7404 - accuracy: 0.0821 - val_loss: 3.1251 - val_accuracy: 0.2067\n",
      "Epoch 3/20\n",
      "86/86 [==============================] - 1s 12ms/step - loss: 2.4490 - accuracy: 0.3519 - val_loss: 2.0620 - val_accuracy: 0.4340\n",
      "Epoch 4/20\n",
      "86/86 [==============================] - 1s 12ms/step - loss: 1.5611 - accuracy: 0.5609 - val_loss: 1.6071 - val_accuracy: 0.5499\n",
      "Epoch 5/20\n",
      "86/86 [==============================] - 1s 13ms/step - loss: 1.0934 - accuracy: 0.6818 - val_loss: 1.4398 - val_accuracy: 0.5924\n",
      "Epoch 6/20\n",
      "86/86 [==============================] - 1s 12ms/step - loss: 0.8285 - accuracy: 0.7482 - val_loss: 1.2519 - val_accuracy: 0.6378\n",
      "Epoch 7/20\n",
      "86/86 [==============================] - 1s 13ms/step - loss: 0.6305 - accuracy: 0.8123 - val_loss: 1.2951 - val_accuracy: 0.6598\n",
      "Epoch 8/20\n",
      "86/86 [==============================] - 1s 13ms/step - loss: 0.4907 - accuracy: 0.8493 - val_loss: 1.3077 - val_accuracy: 0.6657\n",
      "Epoch 9/20\n",
      "86/86 [==============================] - 1s 13ms/step - loss: 0.3965 - accuracy: 0.8732 - val_loss: 1.4107 - val_accuracy: 0.6628\n",
      "Epoch 10/20\n",
      "86/86 [==============================] - 1s 13ms/step - loss: 0.3071 - accuracy: 0.9010 - val_loss: 1.4066 - val_accuracy: 0.6701\n",
      "Epoch 11/20\n",
      "86/86 [==============================] - 1s 14ms/step - loss: 0.2825 - accuracy: 0.9091 - val_loss: 1.3838 - val_accuracy: 0.6921\n",
      "Epoch 12/20\n",
      "86/86 [==============================] - 1s 13ms/step - loss: 0.2303 - accuracy: 0.9263 - val_loss: 1.4463 - val_accuracy: 0.6965\n",
      "Epoch 13/20\n",
      "86/86 [==============================] - 1s 12ms/step - loss: 0.1659 - accuracy: 0.9498 - val_loss: 1.4459 - val_accuracy: 0.6994\n",
      "Epoch 14/20\n",
      "86/86 [==============================] - 1s 12ms/step - loss: 0.1519 - accuracy: 0.9523 - val_loss: 1.5636 - val_accuracy: 0.7111\n",
      "Epoch 15/20\n",
      "86/86 [==============================] - 1s 13ms/step - loss: 0.1105 - accuracy: 0.9659 - val_loss: 1.6410 - val_accuracy: 0.6979\n",
      "Epoch 16/20\n",
      "86/86 [==============================] - 1s 12ms/step - loss: 0.0853 - accuracy: 0.9758 - val_loss: 1.7442 - val_accuracy: 0.7185\n",
      "Epoch 17/20\n",
      "86/86 [==============================] - 1s 12ms/step - loss: 0.0980 - accuracy: 0.9703 - val_loss: 1.7832 - val_accuracy: 0.7126\n",
      "Epoch 18/20\n",
      "86/86 [==============================] - 1s 12ms/step - loss: 0.1249 - accuracy: 0.9633 - val_loss: 1.7491 - val_accuracy: 0.6789\n",
      "Epoch 19/20\n",
      "86/86 [==============================] - 1s 12ms/step - loss: 0.0761 - accuracy: 0.9776 - val_loss: 1.8434 - val_accuracy: 0.6906\n",
      "Epoch 20/20\n",
      "86/86 [==============================] - 1s 13ms/step - loss: 0.0626 - accuracy: 0.9791 - val_loss: 1.9016 - val_accuracy: 0.7009\n"
     ]
    }
   ],
   "source": [
    "history = model.fit(x_train, y_train, epochs=20, validation_data=(x_val, y_val))"
   ]
  },
  {
   "cell_type": "code",
   "execution_count": 46,
   "id": "13d70869",
   "metadata": {},
   "outputs": [
    {
     "data": {
      "image/png": "[encoded data removed]",
      "text/plain": [
       "<Figure size 432x288 with 1 Axes>"
      ]
     },
     "metadata": {
      "needs_background": "light"
     },
     "output_type": "display_data"
    },
    {
     "ename": "NameError",
     "evalue": "name 'x_test' is not defined",
     "output_type": "error",
     "traceback": [
      "\u001b[1;31m---------------------------------------------------------------------------\u001b[0m",
      "\u001b[1;31mNameError\u001b[0m                                 Traceback (most recent call last)",
      "\u001b[1;32m~\\AppData\\Local\\Temp/ipykernel_22744/174912851.py\u001b[0m in \u001b[0;36m<module>\u001b[1;34m\u001b[0m\n\u001b[0;32m      7\u001b[0m \u001b[1;33m\u001b[0m\u001b[0m\n\u001b[0;32m      8\u001b[0m \u001b[1;33m\u001b[0m\u001b[0m\n\u001b[1;32m----> 9\u001b[1;33m \u001b[0mtest_loss\u001b[0m\u001b[1;33m,\u001b[0m \u001b[0mtest_acc\u001b[0m \u001b[1;33m=\u001b[0m \u001b[0mmodel\u001b[0m\u001b[1;33m.\u001b[0m\u001b[0mevaluate\u001b[0m\u001b[1;33m(\u001b[0m\u001b[0mx_test\u001b[0m\u001b[1;33m,\u001b[0m  \u001b[0my_test\u001b[0m\u001b[1;33m,\u001b[0m \u001b[0mverbose\u001b[0m\u001b[1;33m=\u001b[0m\u001b[1;36m2\u001b[0m\u001b[1;33m)\u001b[0m\u001b[1;33m\u001b[0m\u001b[1;33m\u001b[0m\u001b[0m\n\u001b[0m",
      "\u001b[1;31mNameError\u001b[0m: name 'x_test' is not defined"
     ]
    }
   ],
   "source": [
    "plt.plot(history.history['accuracy'], label='accuracy')\n",
    "plt.plot(history.history['val_accuracy'], label = 'val_accuracy')\n",
    "plt.xlabel('Epoch')\n",
    "plt.ylabel('Accuracy')\n",
    "plt.legend(loc='lower right')\n",
    "plt.show()\n",
    "\n",
    "\n",
    "test_loss, test_acc = model.evaluate(x_test,  y_test, verbose=2)"
   ]
  },
  {
   "cell_type": "code",
   "execution_count": 47,
   "id": "32bf021d",
   "metadata": {},
   "outputs": [],
   "source": [
    "# save model\n",
    "model.save('CharacterImageToCharacter.h5')"
   ]
  },
  {
   "cell_type": "code",
   "execution_count": 1,
   "id": "200e3eda",
   "metadata": {},
   "outputs": [],
   "source": [
    "from tensorflow.keras.models import load_model\n",
    "import tensorflow as tf\n",
    "# load the model from file\n",
    "model = load_model('model_DuDoanSo.h5')"
   ]
  },
  {
   "cell_type": "code",
   "execution_count": 48,
   "id": "7b24d97f",
   "metadata": {},
   "outputs": [],
   "source": [
    "def predict(img):\n",
    "    import numpy as np\n",
    "    img = img.convert('L')\n",
    "    img = np.array(img)\n",
    "    # img = img[:,:, 0]\n",
    "    img = img.reshape(50, 50, 1)\n",
    "    new_img = tf.expand_dims(img,0)\n",
    "    new_img = new_img / 255\n",
    "    label = np.argmax(model.predict(new_img), axis=-1)\n",
    "    \n",
    "    return label"
   ]
  },
  {
   "cell_type": "code",
   "execution_count": 49,
   "id": "660d6062",
   "metadata": {},
   "outputs": [],
   "source": [
    "def noise_removal(url):\n",
    "    from PIL import Image\n",
    "    img = Image.open(url)\n",
    "    img = img.resize((28, 28))\n",
    "    pixels = img.load()\n",
    "\n",
    "    new_img = Image.new(img.mode, img.size)\n",
    "    pixels_new = new_img.load()\n",
    "    # lấy mã màu kiểm tra\n",
    "    # góc trái trên\n",
    "    r_topLeft, b_topLeft, g_topLeft = pixels[1, 1]\n",
    "    # góc phải trên\n",
    "    r_topRight, b_topRight, g_topRight = pixels[1, new_img.size[1]-1]\n",
    "    # góc phải dưỡi\n",
    "    r_botRight, b_botRight, g_botRight = pixels[new_img.size[0]-1, new_img.size[1]-1]\n",
    "    # góc trái dưỡi\n",
    "    r_botLeft, b_botLeft, g_botLeft = pixels[new_img.size[0]-1, 1]\n",
    "    # ở giưa\n",
    "    r_middle, b_middle, g_middle = pixels[new_img.size[0]-1, 1]\n",
    "\n",
    "    difference_color = 40\n",
    "    list_check = []\n",
    "    row_check = []\n",
    "    if r_middle - r_topLeft < difference_color or b_middle - b_topLeft < difference_color or g_middle - g_topLeft < difference_color:\n",
    "        row_check.append(1)\n",
    "        row_check.append(r_topLeft)\n",
    "        row_check.append(b_topLeft)\n",
    "        row_check.append(g_topLeft)\n",
    "    else:\n",
    "        row_check.append(0)\n",
    "        row_check.append(r_topLeft)\n",
    "        row_check.append(b_topLeft)\n",
    "        row_check.append(g_topLeft)\n",
    "    list_check.append(row_check)\n",
    "    row_check = []\n",
    "    if r_middle - r_topRight < difference_color or b_middle - b_topRight < difference_color or g_middle - g_topRight < difference_color:\n",
    "        row_check.append(1)\n",
    "        row_check.append(r_topRight)\n",
    "        row_check.append(b_topRight)\n",
    "        row_check.append(g_topRight)\n",
    "    else:\n",
    "        row_check.append(0)\n",
    "        row_check.append(r_topRight)\n",
    "        row_check.append(b_topRight)\n",
    "        row_check.append(g_topRight)\n",
    "    list_check.append(row_check)\n",
    "    row_check = []  \n",
    "    if r_middle - r_botRight < difference_color or b_middle - b_botRight < difference_color or g_middle - g_botRight < difference_color:\n",
    "        row_check.append(1)\n",
    "        row_check.append(r_botRight)\n",
    "        row_check.append(b_botRight)\n",
    "        row_check.append(g_botRight)\n",
    "    else:\n",
    "        row_check.append(0)\n",
    "        row_check.append(r_botRight)\n",
    "        row_check.append(b_botRight)\n",
    "        row_check.append(g_botRight)\n",
    "    list_check.append(row_check)\n",
    "    row_check = []\n",
    "    if r_middle - r_botLeft < difference_color or b_middle - b_botLeft < difference_color or g_middle - g_botLeft < difference_color:\n",
    "        row_check.append(1)\n",
    "        row_check.append(r_botLeft)\n",
    "        row_check.append(b_botLeft)\n",
    "        row_check.append(g_botLeft)\n",
    "    else:\n",
    "        row_check.append(0)   \n",
    "        row_check.append(r_botLeft)\n",
    "        row_check.append(b_botLeft)\n",
    "        row_check.append(g_botLeft)\n",
    "    list_check.append(row_check)\n",
    "\n",
    "    count = 0\n",
    "    for check_color in range(len(list_check)):\n",
    "        if list_check[check_color][0] == 1:\n",
    "            count += 1\n",
    "    if count <= 2:\n",
    "        main_color = [list_check[check_color][1], list_check[check_color][2], list_check[check_color][3]]\n",
    "        for i in range(new_img.size[0]):\n",
    "            for j in range(new_img.size[1]):\n",
    "                r, b, g = pixels[i,j]\n",
    "                if main_color[0] - difference_color < r < main_color[0] + difference_color or main_color[1] - difference_color < g < main_color[1] + difference_color or main_color[2] - difference_color < b < main_color[2] + difference_color:\n",
    "                    pixels_new[i,j] = (255, 255, 255, 0)\n",
    "                else:\n",
    "                    pixels_new[i,j] = (0, 0, 0, 0)\n",
    "    else:\n",
    "        for check_color in range(len(list_check)):\n",
    "            if list_check[check_color][0] == 1:\n",
    "                main_color = [list_check[check_color][1], list_check[check_color][2], list_check[check_color][3]]\n",
    "                break\n",
    "\n",
    "        for i in range(new_img.size[0]):\n",
    "            for j in range(new_img.size[1]):\n",
    "                r, b, g = pixels[i,j]\n",
    "                if main_color[0] - difference_color < r < main_color[0] + difference_color or main_color[1] - difference_color < g < main_color[1] + difference_color or main_color[2] - difference_color < b < main_color[2] + difference_color:\n",
    "                    pixels_new[i,j] = (0, 0, 0, 0)\n",
    "                else:\n",
    "                    pixels_new[i,j] = (255, 255, 255, 0)\n",
    "\n",
    "    return new_img"
   ]
  },
  {
   "cell_type": "code",
   "execution_count": 50,
   "id": "1bca3777",
   "metadata": {},
   "outputs": [
    {
     "name": "stdout",
     "output_type": "stream",
     "text": [
      "1/1 [==============================] - 0s 51ms/step\n"
     ]
    },
    {
     "data": {
      "text/plain": [
       "Text(0.5, 1.0, 'W')"
      ]
     },
     "execution_count": 50,
     "metadata": {},
     "output_type": "execute_result"
    },
    {
     "data": {
      "image/png": "[encoded data removed]",
      "text/plain": [
       "<Figure size 432x288 with 1 Axes>"
      ]
     },
     "metadata": {
      "needs_background": "light"
     },
     "output_type": "display_data"
    }
   ],
   "source": [
    "url = r\"w.png\"\n",
    "# # loai bo nhieu~\n",
    "# img = noise_removal(url)\n",
    "# du doan\n",
    "img = Image.open(url)\n",
    "img = img.resize((50, 50))\n",
    "label = predict(img)\n",
    "# xuat\n",
    "import matplotlib.pyplot as plt\n",
    "plt.imshow(img)\n",
    "plt.title(char_[int(label)])"
   ]
  },
  {
   "cell_type": "code",
   "execution_count": null,
   "id": "1efaaa28",
   "metadata": {},
   "outputs": [],
   "source": []
  },
  {
   "cell_type": "code",
   "execution_count": null,
   "id": "cb56a74e",
   "metadata": {},
   "outputs": [],
   "source": []
  },
  {
   "cell_type": "code",
   "execution_count": null,
   "id": "e730f1fb",
   "metadata": {},
   "outputs": [],
   "source": []
  }
 ],
 "metadata": {
  "kernelspec": {
   "display_name": "Python 3 (ipykernel)",
   "language": "python",
   "name": "python3"
  },
  "language_info": {
   "codemirror_mode": {
    "name": "ipython",
    "version": 3
   },
   "file_extension": ".py",
   "mimetype": "text/x-python",
   "name": "python",
   "nbconvert_exporter": "python",
   "pygments_lexer": "ipython3",
   "version": "3.9.5"
  }
 },
 "nbformat": 4,
 "nbformat_minor": 5
}
