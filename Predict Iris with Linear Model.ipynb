{
 "cells": [
  {
   "cell_type": "code",
   "execution_count": 1,
   "id": "1cae487f",
   "metadata": {},
   "outputs": [],
   "source": [
    "from sklearn.model_selection import train_test_split\n",
    "import tensorflow as tf\n",
    "from sklearn import datasets"
   ]
  },
  {
   "cell_type": "code",
   "execution_count": 2,
   "id": "7343e558",
   "metadata": {},
   "outputs": [],
   "source": [
    "# import some data to play with\n",
    "iris = datasets.load_iris()\n",
    "X = iris.data  # we only take the first two features.\n",
    "y = iris.target"
   ]
  },
  {
   "cell_type": "code",
   "execution_count": 3,
   "id": "b4ab7ffe",
   "metadata": {},
   "outputs": [
    {
     "name": "stdout",
     "output_type": "stream",
     "text": [
      "Sepal shape (150,)\n",
      "irises shape (150,)\n"
     ]
    }
   ],
   "source": [
    "print(f'Sepal shape {X[:, 0].shape}')\n",
    "print(f'irises shape {y.shape}')"
   ]
  },
  {
   "cell_type": "code",
   "execution_count": 4,
   "id": "9d4aabd1",
   "metadata": {},
   "outputs": [],
   "source": [
    "label = ['setosa', 'versicolor', 'virginica']"
   ]
  },
  {
   "cell_type": "code",
   "execution_count": 5,
   "id": "845a080f",
   "metadata": {},
   "outputs": [],
   "source": [
    "# chia train và test\n",
    "x_train, x_test, y_train, y_test = train_test_split(X, y, test_size=0.2, random_state=42)"
   ]
  },
  {
   "cell_type": "code",
   "execution_count": 6,
   "id": "d9136400",
   "metadata": {},
   "outputs": [
    {
     "name": "stdout",
     "output_type": "stream",
     "text": [
      "shape X train numbers : (120, 4)\n",
      "shape y train result : (120,)\n",
      "-----------------------------------------\n",
      "shape X test numbers : (30, 4)\n",
      "shape y test result : (30,)\n"
     ]
    }
   ],
   "source": [
    "print('shape X train numbers : '+ str(x_train.shape))\n",
    "print('shape y train result : '+ str(y_train.shape))\n",
    "print('-----------------------------------------')\n",
    "print('shape X test numbers : '+ str(x_test.shape))\n",
    "print('shape y test result : '+ str(y_test.shape))"
   ]
  },
  {
   "cell_type": "code",
   "execution_count": 10,
   "id": "4cff1988",
   "metadata": {},
   "outputs": [],
   "source": [
    "# xây dựng mô hình\n",
    "def create_model():\n",
    "    model = tf.keras.Sequential([\n",
    "        tf.keras.layers.Dense(64, activation='relu', input_shape=(4,)),\n",
    "        tf.keras.layers.Dropout(0.2),\n",
    "        tf.keras.layers.Dense(128, activation='relu', input_shape=(2,)),\n",
    "        tf.keras.layers.Dropout(0.2),\n",
    "        tf.keras.layers.Dense(256, activation='relu', input_shape=(2,)),\n",
    "        tf.keras.layers.Dense(1, activation=\"linear\")\n",
    "    ])\n",
    "\n",
    "    # Compile mô hình\n",
    "    optimizer = tf.keras.optimizers.SGD(learning_rate=0.02)\n",
    "    model.compile(optimizer=optimizer,loss='mse')\n",
    "    \n",
    "    return model"
   ]
  },
  {
   "cell_type": "code",
   "execution_count": 11,
   "id": "d3c91300",
   "metadata": {},
   "outputs": [
    {
     "name": "stdout",
     "output_type": "stream",
     "text": [
      "Model: \"sequential_1\"\n",
      "_________________________________________________________________\n",
      " Layer (type)                Output Shape              Param #   \n",
      "=================================================================\n",
      " dense_4 (Dense)             (None, 64)                320       \n",
      "                                                                 \n",
      " dropout_2 (Dropout)         (None, 64)                0         \n",
      "                                                                 \n",
      " dense_5 (Dense)             (None, 128)               8320      \n",
      "                                                                 \n",
      " dropout_3 (Dropout)         (None, 128)               0         \n",
      "                                                                 \n",
      " dense_6 (Dense)             (None, 256)               33024     \n",
      "                                                                 \n",
      " dense_7 (Dense)             (None, 1)                 257       \n",
      "                                                                 \n",
      "=================================================================\n",
      "Total params: 41,921\n",
      "Trainable params: 41,921\n",
      "Non-trainable params: 0\n",
      "_________________________________________________________________\n"
     ]
    }
   ],
   "source": [
    "model = create_model()\n",
    "model.summary()"
   ]
  },
  {
   "cell_type": "code",
   "execution_count": 12,
   "id": "26b00c73",
   "metadata": {},
   "outputs": [
    {
     "name": "stdout",
     "output_type": "stream",
     "text": [
      "Epoch 1/150\n",
      "1/1 [==============================] - 0s 481ms/step - loss: 2.6113 - val_loss: 2.8212\n",
      "Epoch 2/150\n",
      "1/1 [==============================] - 0s 33ms/step - loss: 3.2924 - val_loss: 2.6166\n",
      "Epoch 3/150\n",
      "1/1 [==============================] - 0s 38ms/step - loss: 1.8828 - val_loss: 1.4441\n",
      "Epoch 4/150\n",
      "1/1 [==============================] - 0s 39ms/step - loss: 0.9960 - val_loss: 0.9274\n",
      "Epoch 5/150\n",
      "1/1 [==============================] - 0s 35ms/step - loss: 0.6065 - val_loss: 0.5879\n",
      "Epoch 6/150\n",
      "1/1 [==============================] - 0s 39ms/step - loss: 0.4448 - val_loss: 0.3979\n",
      "Epoch 7/150\n",
      "1/1 [==============================] - 0s 38ms/step - loss: 0.3725 - val_loss: 0.3101\n",
      "Epoch 8/150\n",
      "1/1 [==============================] - 0s 35ms/step - loss: 0.3288 - val_loss: 0.2762\n",
      "Epoch 9/150\n",
      "1/1 [==============================] - 0s 42ms/step - loss: 0.2887 - val_loss: 0.2589\n",
      "Epoch 10/150\n",
      "1/1 [==============================] - 0s 43ms/step - loss: 0.2444 - val_loss: 0.2450\n",
      "Epoch 11/150\n",
      "1/1 [==============================] - 0s 41ms/step - loss: 0.2907 - val_loss: 0.2180\n",
      "Epoch 12/150\n",
      "1/1 [==============================] - 0s 38ms/step - loss: 0.2412 - val_loss: 0.1999\n",
      "Epoch 13/150\n",
      "1/1 [==============================] - 0s 36ms/step - loss: 0.2501 - val_loss: 0.1810\n",
      "Epoch 14/150\n",
      "1/1 [==============================] - 0s 41ms/step - loss: 0.2127 - val_loss: 0.1647\n",
      "Epoch 15/150\n",
      "1/1 [==============================] - 0s 40ms/step - loss: 0.2085 - val_loss: 0.1491\n",
      "Epoch 16/150\n",
      "1/1 [==============================] - 0s 33ms/step - loss: 0.2256 - val_loss: 0.1389\n",
      "Epoch 17/150\n",
      "1/1 [==============================] - 0s 42ms/step - loss: 0.1850 - val_loss: 0.1245\n",
      "Epoch 18/150\n",
      "1/1 [==============================] - 0s 41ms/step - loss: 0.1813 - val_loss: 0.1288\n",
      "Epoch 19/150\n",
      "1/1 [==============================] - 0s 36ms/step - loss: 0.1939 - val_loss: 0.1384\n",
      "Epoch 20/150\n",
      "1/1 [==============================] - 0s 39ms/step - loss: 0.1483 - val_loss: 0.1320\n",
      "Epoch 21/150\n",
      "1/1 [==============================] - 0s 34ms/step - loss: 0.1502 - val_loss: 0.1201\n",
      "Epoch 22/150\n",
      "1/1 [==============================] - 0s 40ms/step - loss: 0.1789 - val_loss: 0.0943\n",
      "Epoch 23/150\n",
      "1/1 [==============================] - 0s 40ms/step - loss: 0.1454 - val_loss: 0.0870\n",
      "Epoch 24/150\n",
      "1/1 [==============================] - 0s 36ms/step - loss: 0.1606 - val_loss: 0.0936\n",
      "Epoch 25/150\n",
      "1/1 [==============================] - 0s 40ms/step - loss: 0.1197 - val_loss: 0.1040\n",
      "Epoch 26/150\n",
      "1/1 [==============================] - 0s 32ms/step - loss: 0.1442 - val_loss: 0.0861\n",
      "Epoch 27/150\n",
      "1/1 [==============================] - 0s 41ms/step - loss: 0.1643 - val_loss: 0.1014\n",
      "Epoch 28/150\n",
      "1/1 [==============================] - 0s 33ms/step - loss: 0.1184 - val_loss: 0.0936\n",
      "Epoch 29/150\n",
      "1/1 [==============================] - 0s 40ms/step - loss: 0.1460 - val_loss: 0.0867\n",
      "Epoch 30/150\n",
      "1/1 [==============================] - 0s 33ms/step - loss: 0.1561 - val_loss: 0.0905\n",
      "Epoch 31/150\n",
      "1/1 [==============================] - 0s 40ms/step - loss: 0.1141 - val_loss: 0.0983\n",
      "Epoch 32/150\n",
      "1/1 [==============================] - 0s 39ms/step - loss: 0.1750 - val_loss: 0.0684\n",
      "Epoch 33/150\n",
      "1/1 [==============================] - 0s 35ms/step - loss: 0.1290 - val_loss: 0.0987\n",
      "Epoch 34/150\n",
      "1/1 [==============================] - 0s 33ms/step - loss: 0.1565 - val_loss: 0.0862\n",
      "Epoch 35/150\n",
      "1/1 [==============================] - 0s 37ms/step - loss: 0.1573 - val_loss: 0.0789\n",
      "Epoch 36/150\n",
      "1/1 [==============================] - 0s 34ms/step - loss: 0.1320 - val_loss: 0.0962\n",
      "Epoch 37/150\n",
      "1/1 [==============================] - 0s 28ms/step - loss: 0.1471 - val_loss: 0.0647\n",
      "Epoch 38/150\n",
      "1/1 [==============================] - 0s 34ms/step - loss: 0.1084 - val_loss: 0.0685\n",
      "Epoch 39/150\n",
      "1/1 [==============================] - 0s 35ms/step - loss: 0.1145 - val_loss: 0.0945\n",
      "Epoch 40/150\n",
      "1/1 [==============================] - 0s 36ms/step - loss: 0.1001 - val_loss: 0.0805\n",
      "Epoch 41/150\n",
      "1/1 [==============================] - 0s 33ms/step - loss: 0.1123 - val_loss: 0.0640\n",
      "Epoch 42/150\n",
      "1/1 [==============================] - 0s 39ms/step - loss: 0.1255 - val_loss: 0.0740\n"
     ]
    }
   ],
   "source": [
    "# Thiết lập hàm call back Early Stopping\n",
    "callback = tf.keras.callbacks.EarlyStopping(monitor='val_loss', min_delta=0.01, mode=\"auto\", patience=10, restore_best_weights=True)\n",
    "\n",
    "# Huấn luyện mô hình\n",
    "history = model.fit(x_train, y_train, epochs=150, batch_size=128, validation_split=0.2, shuffle=True, callbacks = callback)"
   ]
  },
  {
   "cell_type": "code",
   "execution_count": 18,
   "id": "25803502",
   "metadata": {},
   "outputs": [
    {
     "name": "stdout",
     "output_type": "stream",
     "text": [
      "1/1 [==============================] - 0s 20ms/step\n",
      "Sepal length 6.1, Sepal width 2.8: pred: [1.], y = 1\n",
      "Sepal length 5.7, Sepal width 3.8: pred: [0.], y = 0\n",
      "Sepal length 7.7, Sepal width 2.6: pred: [2.], y = 2\n",
      "Sepal length 6.0, Sepal width 2.9: pred: [1.], y = 1\n",
      "Sepal length 6.8, Sepal width 2.8: pred: [1.], y = 1\n",
      "Sepal length 5.4, Sepal width 3.4: pred: [0.], y = 0\n",
      "Sepal length 5.6, Sepal width 2.9: pred: [1.], y = 1\n",
      "Sepal length 6.9, Sepal width 3.1: pred: [2.], y = 2\n",
      "Sepal length 6.2, Sepal width 2.2: pred: [1.], y = 1\n",
      "Sepal length 5.8, Sepal width 2.7: pred: [1.], y = 1\n",
      "Sepal length 6.5, Sepal width 3.2: pred: [2.], y = 2\n",
      "Sepal length 4.8, Sepal width 3.0: pred: [0.], y = 0\n",
      "Sepal length 5.5, Sepal width 3.5: pred: [-0.], y = 0\n",
      "Sepal length 4.9, Sepal width 3.1: pred: [0.], y = 0\n",
      "Sepal length 5.1, Sepal width 3.8: pred: [-0.], y = 0\n",
      "Sepal length 6.3, Sepal width 3.3: pred: [1.], y = 1\n",
      "Sepal length 6.5, Sepal width 3.0: pred: [2.], y = 2\n",
      "Sepal length 5.6, Sepal width 2.5: pred: [1.], y = 1\n",
      "Sepal length 5.7, Sepal width 2.8: pred: [1.], y = 1\n",
      "Sepal length 6.4, Sepal width 2.8: pred: [2.], y = 2\n",
      "Sepal length 4.7, Sepal width 3.2: pred: [0.], y = 0\n",
      "Sepal length 6.1, Sepal width 3.0: pred: [1.], y = 2\n",
      "Sepal length 5.0, Sepal width 3.4: pred: [0.], y = 0\n",
      "Sepal length 6.4, Sepal width 2.8: pred: [2.], y = 2\n",
      "Sepal length 7.9, Sepal width 3.8: pred: [2.], y = 2\n",
      "Sepal length 6.7, Sepal width 3.0: pred: [2.], y = 2\n",
      "Sepal length 6.7, Sepal width 2.5: pred: [2.], y = 2\n",
      "Sepal length 6.8, Sepal width 3.2: pred: [2.], y = 2\n",
      "Sepal length 4.8, Sepal width 3.0: pred: [0.], y = 0\n",
      "Sepal length 4.8, Sepal width 3.1: pred: [0.], y = 0\n"
     ]
    }
   ],
   "source": [
    "import numpy as np\n",
    "# Dự đoán kết quả\n",
    "y_pred = model.predict(x_test)\n",
    "for i, y in enumerate(y_pred):\n",
    "    print(f'Sepal length {x_test[i][0]}, Sepal width {x_test[i][1]}: pred: {np.round(y)}, y = {y_test[i]}')"
   ]
  },
  {
   "cell_type": "code",
   "execution_count": null,
   "id": "a78afdd4",
   "metadata": {},
   "outputs": [],
   "source": []
  }
 ],
 "metadata": {
  "kernelspec": {
   "display_name": "Python 3 (ipykernel)",
   "language": "python",
   "name": "python3"
  },
  "language_info": {
   "codemirror_mode": {
    "name": "ipython",
    "version": 3
   },
   "file_extension": ".py",
   "mimetype": "text/x-python",
   "name": "python",
   "nbconvert_exporter": "python",
   "pygments_lexer": "ipython3",
   "version": "3.9.5"
  }
 },
 "nbformat": 4,
 "nbformat_minor": 5
}
