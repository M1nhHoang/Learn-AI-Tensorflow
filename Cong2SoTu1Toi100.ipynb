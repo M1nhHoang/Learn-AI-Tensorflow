{
 "cells": [
  {
   "cell_type": "code",
   "execution_count": 1,
   "id": "a5a96f90",
   "metadata": {},
   "outputs": [],
   "source": [
    "from sklearn.model_selection import train_test_split\n",
    "from sklearn.preprocessing import MinMaxScaler\n",
    "import tensorflow as tf\n",
    "import random\n",
    "import numpy as np"
   ]
  },
  {
   "cell_type": "code",
   "execution_count": 2,
   "id": "423647d4",
   "metadata": {},
   "outputs": [],
   "source": [
    "# tạo dataset\n",
    "X = []\n",
    "Y = []\n",
    "for i in range(100000):\n",
    "    number = [random.randint(1, 100), random.randint(1, 100)]\n",
    "    Y.append(number[0]+number[1])\n",
    "    X.append(number)\n",
    "\n",
    "    \n",
    "X = np.array(X)\n",
    "Y = np.array(Y)"
   ]
  },
  {
   "cell_type": "code",
   "execution_count": 3,
   "id": "026c3730",
   "metadata": {},
   "outputs": [],
   "source": [
    "# chia train và test\n",
    "x_train, x_test, y_train, y_test = train_test_split(X, Y, test_size=0.2, random_state=42)"
   ]
  },
  {
   "cell_type": "code",
   "execution_count": 4,
   "id": "d4b49930",
   "metadata": {},
   "outputs": [
    {
     "name": "stdout",
     "output_type": "stream",
     "text": [
      "shape X train numbers : (80000, 2)\n",
      "shape y train result : (80000,)\n",
      "-----------------------------------------\n",
      "shape X test numbers : (20000, 2)\n",
      "shape y test result : (20000,)\n"
     ]
    }
   ],
   "source": [
    "print('shape X train numbers : '+ str(x_train.shape))\n",
    "print('shape y train result : '+ str(y_train.shape))\n",
    "print('-----------------------------------------')\n",
    "print('shape X test numbers : '+ str(x_test.shape))\n",
    "print('shape y test result : '+ str(y_test.shape))"
   ]
  },
  {
   "cell_type": "code",
   "execution_count": 5,
   "id": "b4d94bfc",
   "metadata": {},
   "outputs": [],
   "source": [
    "# xây dựng mô hình\n",
    "def create_model():\n",
    "    model = tf.keras.Sequential([\n",
    "        tf.keras.layers.Dense(64, activation='relu', input_shape=(2,)),\n",
    "        tf.keras.layers.Dense(64, activation='relu'),\n",
    "        tf.keras.layers.Dense(1)\n",
    "    ])\n",
    "\n",
    "    # Compile mô hình\n",
    "    model.compile(optimizer='adam', loss='mse')\n",
    "    \n",
    "    return model"
   ]
  },
  {
   "cell_type": "code",
   "execution_count": 6,
   "id": "4f8a60d5",
   "metadata": {},
   "outputs": [
    {
     "name": "stdout",
     "output_type": "stream",
     "text": [
      "Model: \"sequential\"\n",
      "_________________________________________________________________\n",
      " Layer (type)                Output Shape              Param #   \n",
      "=================================================================\n",
      " dense (Dense)               (None, 64)                192       \n",
      "                                                                 \n",
      " dense_1 (Dense)             (None, 64)                4160      \n",
      "                                                                 \n",
      " dense_2 (Dense)             (None, 1)                 65        \n",
      "                                                                 \n",
      "=================================================================\n",
      "Total params: 4,417\n",
      "Trainable params: 4,417\n",
      "Non-trainable params: 0\n",
      "_________________________________________________________________\n"
     ]
    }
   ],
   "source": [
    "model = create_model()\n",
    "model.summary()"
   ]
  },
  {
   "cell_type": "code",
   "execution_count": null,
   "id": "5f4d3b2b",
   "metadata": {},
   "outputs": [
    {
     "name": "stdout",
     "output_type": "stream",
     "text": [
      "Epoch 1/50\n",
      "438/438 [==============================] - 2s 3ms/step - loss: 442.6855 - val_loss: 0.1335\n",
      "Epoch 2/50\n",
      "438/438 [==============================] - 1s 3ms/step - loss: 0.0314 - val_loss: 0.0141\n",
      "Epoch 3/50\n",
      "438/438 [==============================] - 1s 3ms/step - loss: 0.0112 - val_loss: 0.0093\n",
      "Epoch 4/50\n",
      "438/438 [==============================] - 1s 3ms/step - loss: 0.0083 - val_loss: 0.0075\n",
      "Epoch 5/50\n",
      "438/438 [==============================] - 1s 3ms/step - loss: 0.0067 - val_loss: 0.0061\n",
      "Epoch 6/50\n",
      "438/438 [==============================] - 1s 2ms/step - loss: 0.0053 - val_loss: 0.0046\n",
      "Epoch 7/50\n",
      "438/438 [==============================] - 2s 4ms/step - loss: 0.0038 - val_loss: 0.0033\n",
      "Epoch 8/50\n",
      "438/438 [==============================] - 1s 3ms/step - loss: 0.0022 - val_loss: 0.0015\n",
      "Epoch 9/50\n",
      "438/438 [==============================] - 1s 3ms/step - loss: 0.0011 - val_loss: 7.4591e-04\n",
      "Epoch 10/50\n",
      "414/438 [===========================>..] - ETA: 0s - loss: 6.5285e-04"
     ]
    }
   ],
   "source": [
    "# Thiết lập hàm call back Early Stopping\n",
    "callback = tf.keras.callbacks.EarlyStopping(monitor='val_loss', min_delta=0.5, mode=\"auto\", patience=5, restore_best_weights=True)\n",
    "\n",
    "# Huấn luyện mô hình\n",
    "history = model.fit(x_train, y_train, epochs=50, batch_size=128, validation_split=0.3)"
   ]
  },
  {
   "cell_type": "code",
   "execution_count": null,
   "id": "19006c06",
   "metadata": {},
   "outputs": [],
   "source": [
    "import matplotlib.pyplot as plt\n",
    "plt.plot(history.history['loss'], label='loss')\n",
    "plt.plot(history.history['val_loss'], label = 'val_loss')\n",
    "plt.xlabel('Epoch')\n",
    "plt.ylabel('Loss')\n",
    "plt.legend(loc='lower right')\n",
    "plt.show()"
   ]
  },
  {
   "cell_type": "code",
   "execution_count": null,
   "id": "308a5a9c",
   "metadata": {},
   "outputs": [],
   "source": [
    "# Dự đoán kết quả\n",
    "y_pred = model.predict(x_test)\n",
    "for i, y in enumerate(y_pred):\n",
    "    print(f'{x_test[i][0]} + {x_test[i][1]} = {y[0]}')"
   ]
  },
  {
   "cell_type": "code",
   "execution_count": null,
   "id": "ce0ce34b",
   "metadata": {},
   "outputs": [],
   "source": []
  }
 ],
 "metadata": {
  "kernelspec": {
   "display_name": "Python 3 (ipykernel)",
   "language": "python",
   "name": "python3"
  },
  "language_info": {
   "codemirror_mode": {
    "name": "ipython",
    "version": 3
   },
   "file_extension": ".py",
   "mimetype": "text/x-python",
   "name": "python",
   "nbconvert_exporter": "python",
   "pygments_lexer": "ipython3",
   "version": "3.9.5"
  }
 },
 "nbformat": 4,
 "nbformat_minor": 5
}
