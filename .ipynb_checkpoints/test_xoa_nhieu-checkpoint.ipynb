{
 "cells": [
  {
   "cell_type": "code",
   "execution_count": 1,
   "id": "0446bb00",
   "metadata": {},
   "outputs": [],
   "source": [
    "import tensorflow as tf"
   ]
  },
  {
   "cell_type": "code",
   "execution_count": 12,
   "id": "d68266a1",
   "metadata": {},
   "outputs": [],
   "source": [
    "def noise_removal(url):\n",
    "    from PIL import Image\n",
    "    img = Image.open(url)\n",
    "    pixels = img.load()\n",
    "\n",
    "    new_img = Image.new(img.mode, img.size)\n",
    "    pixels_new = new_img.load()\n",
    "    # lấy mã màu kiểm tra\n",
    "    # góc trái trên\n",
    "    r_topLeft, b_topLeft, g_topLeft = pixels[1, 1]\n",
    "    # góc phải trên\n",
    "    r_topRight, b_topRight, g_topRight = pixels[1, new_img.size[1]-1]\n",
    "    # góc phải dưỡi\n",
    "    r_botRight, b_botRight, g_botRight = pixels[new_img.size[0]-1, new_img.size[1]-1]\n",
    "    # góc trái dưỡi\n",
    "    r_botLeft, b_botLeft, g_botLeft = pixels[new_img.size[0]-1, 1]\n",
    "    # ở giưa\n",
    "    r_middle, b_middle, g_middle = pixels[new_img.size[0]-1, 1]\n",
    "\n",
    "    difference_color = 100\n",
    "    list_check = []\n",
    "    row_check = []\n",
    "    if r_middle - r_topLeft < difference_color or b_middle - b_topLeft < difference_color or g_middle - g_topLeft < difference_color:\n",
    "        row_check.append(1)\n",
    "        row_check.append(r_topLeft)\n",
    "        row_check.append(b_topLeft)\n",
    "        row_check.append(g_topLeft)\n",
    "    else:\n",
    "        row_check.append(0)\n",
    "        row_check.append(r_topLeft)\n",
    "        row_check.append(b_topLeft)\n",
    "        row_check.append(g_topLeft)\n",
    "    list_check.append(row_check)\n",
    "    row_check = []\n",
    "    if r_middle - r_topRight < difference_color or b_middle - b_topRight < difference_color or g_middle - g_topRight < difference_color:\n",
    "        row_check.append(1)\n",
    "        row_check.append(r_topRight)\n",
    "        row_check.append(b_topRight)\n",
    "        row_check.append(g_topRight)\n",
    "    else:\n",
    "        row_check.append(0)\n",
    "        row_check.append(r_topRight)\n",
    "        row_check.append(b_topRight)\n",
    "        row_check.append(g_topRight)\n",
    "    list_check.append(row_check)\n",
    "    row_check = []  \n",
    "    if r_middle - r_botRight < difference_color or b_middle - b_botRight < difference_color or g_middle - g_botRight < difference_color:\n",
    "        row_check.append(1)\n",
    "        row_check.append(r_botRight)\n",
    "        row_check.append(b_botRight)\n",
    "        row_check.append(g_botRight)\n",
    "    else:\n",
    "        row_check.append(0)\n",
    "        row_check.append(r_botRight)\n",
    "        row_check.append(b_botRight)\n",
    "        row_check.append(g_botRight)\n",
    "    list_check.append(row_check)\n",
    "    row_check = []\n",
    "    if r_middle - r_botLeft < difference_color or b_middle - b_botLeft < difference_color or g_middle - g_botLeft < difference_color:\n",
    "        row_check.append(1)\n",
    "        row_check.append(r_botLeft)\n",
    "        row_check.append(b_botLeft)\n",
    "        row_check.append(g_botLeft)\n",
    "    else:\n",
    "        row_check.append(0)   \n",
    "        row_check.append(r_botLeft)\n",
    "        row_check.append(b_botLeft)\n",
    "        row_check.append(g_botLeft)\n",
    "    list_check.append(row_check)\n",
    "    print(list_check)\n",
    "    count = 0\n",
    "    for check_color in range(len(list_check)):\n",
    "        if list_check[check_color][0] == 1:\n",
    "            count += 1\n",
    "    if count <= 2:\n",
    "        main_color = [list_check[check_color][1], list_check[check_color][2], list_check[check_color][3]]\n",
    "        for i in range(new_img.size[0]):\n",
    "            for j in range(new_img.size[1]):\n",
    "                r, b, g = pixels[i,j]\n",
    "                if main_color[0] - difference_color < r < main_color[0] + difference_color or main_color[1] - difference_color < g < main_color[1] + difference_color or main_color[2] - difference_color < b < main_color[2] + difference_color:\n",
    "                    pixels_new[i,j] = (255, 255, 255, 0)\n",
    "                else:\n",
    "                    pixels_new[i,j] = (0, 0, 0, 0)\n",
    "    else:\n",
    "        for check_color in range(len(list_check)):\n",
    "            if list_check[check_color][0] == 1:\n",
    "                main_color = [list_check[check_color][1], list_check[check_color][2], list_check[check_color][3]]\n",
    "                print(main_color)\n",
    "                break\n",
    "\n",
    "        for i in range(new_img.size[0]):\n",
    "            for j in range(new_img.size[1]):\n",
    "                r, b, g = pixels[i,j]\n",
    "                if main_color[0] - difference_color < r < main_color[0] + difference_color or main_color[1] - difference_color < g < main_color[1] + difference_color or main_color[2] - difference_color < b < main_color[2] + difference_color:\n",
    "                    pixels_new[i,j] = (255, 255, 255)\n",
    "                else:\n",
    "                    pixels_new[i,j] = (0, 0, 0)\n",
    "\n",
    "    return new_img"
   ]
  },
  {
   "cell_type": "code",
   "execution_count": 48,
   "id": "b824165a",
   "metadata": {
    "scrolled": true
   },
   "outputs": [
    {
     "name": "stdout",
     "output_type": "stream",
     "text": [
      "[[1, 255, 255, 255], [1, 0, 0, 0], [1, 0, 0, 0], [1, 0, 0, 0]]\n",
      "[255, 255, 255]\n"
     ]
    },
    {
     "data": {
      "text/plain": [
       "<matplotlib.image.AxesImage at 0x227beba24f0>"
      ]
     },
     "execution_count": 48,
     "metadata": {},
     "output_type": "execute_result"
    },
    {
     "data": {
      "image/png": "[encoded data removed]",
      "text/plain": [
       "<Figure size 432x288 with 1 Axes>"
      ]
     },
     "metadata": {
      "needs_background": "light"
     },
     "output_type": "display_data"
    }
   ],
   "source": [
    "url = r'C:\\Users\\HP\\Desktop\\298920993_1201966413708090_551930568028232375_n.jpg'\n",
    "from PIL import Image\n",
    "img = noise_removal(url)\n",
    "# img = Image.open(url)\n",
    "# 145x50\n",
    "import matplotlib.pyplot as plt\n",
    "plt.imshow(img)"
   ]
  },
  {
   "cell_type": "code",
   "execution_count": 50,
   "id": "4e5169de",
   "metadata": {},
   "outputs": [
    {
     "name": "stdout",
     "output_type": "stream",
     "text": [
      "50 130\n"
     ]
    },
    {
     "data": {
      "text/plain": [
       "<matplotlib.image.AxesImage at 0x227bec7f310>"
      ]
     },
     "execution_count": 50,
     "metadata": {},
     "output_type": "execute_result"
    },
    {
     "data": {
      "image/png": "[encoded data removed]",
      "text/plain": [
       "<Figure size 432x288 with 1 Axes>"
      ]
     },
     "metadata": {
      "needs_background": "light"
     },
     "output_type": "display_data"
    }
   ],
   "source": [
    "count = 0\n",
    "new_img = img\n",
    "pixels = new_img.load()\n",
    "new_img = Image.new(img.mode, img.size)\n",
    "print(new_img.size[1],new_img.size[0])\n",
    "\n",
    "# xoa doc\n",
    "for i in range(new_img.size[0]):\n",
    "    for j in range(new_img.size[1]):\n",
    "        r, b, g = pixels[i,j]\n",
    "        if r != 255 and g != 255 and b != 255:\n",
    "            count += 1\n",
    "        else:\n",
    "            if 0 < count <= 3:\n",
    "                while count != 0:\n",
    "                    pixels[i,j-count] = (255, 255, 255)\n",
    "                    count -= 1\n",
    "            else:\n",
    "                count = 0\n",
    "# xoa ngang\n",
    "for j in range(new_img.size[1]):\n",
    "    for i in range(new_img.size[0]):\n",
    "        r, b, g = pixels[i,j]\n",
    "        if r != 255 and g != 255 and b != 255:\n",
    "            count += 1\n",
    "        else:\n",
    "            if 0 < count <= 3:\n",
    "                while count != 0:\n",
    "                    pixels[i-count,j] = (255, 255, 255)\n",
    "                    count -= 1\n",
    "            else:\n",
    "                count = 0\n",
    "plt.imshow(img)"
   ]
  },
  {
   "cell_type": "code",
   "execution_count": 59,
   "id": "dbc8b20c",
   "metadata": {},
   "outputs": [
    {
     "name": "stdout",
     "output_type": "stream",
     "text": [
      "[[1, 241, 249, 255], [1, 242, 249, 255], [1, 242, 249, 255], [1, 242, 249, 255]]\n",
      "[241, 249, 255]\n"
     ]
    },
    {
     "data": {
      "text/plain": [
       "<matplotlib.image.AxesImage at 0x144e6814b80>"
      ]
     },
     "execution_count": 59,
     "metadata": {},
     "output_type": "execute_result"
    },
    {
     "data": {
      "image/png": "[encoded data removed]",
      "text/plain": [
       "<Figure size 432x288 with 1 Axes>"
      ]
     },
     "metadata": {
      "needs_background": "light"
     },
     "output_type": "display_data"
    }
   ],
   "source": [
    "url = r'C:\\Users\\HP\\Desktop\\Data_Train_Ai_CapCha\\testDataset_captcha\\0bc30b36-f582-4444-bbcb-32e15d9847a7.png'\n",
    "from PIL import Image\n",
    "\n",
    "img = noise_removal(url)\n",
    "\n",
    "# 145x50\n",
    "import matplotlib.pyplot as plt\n",
    "plt.imshow(img)"
   ]
  },
  {
   "cell_type": "code",
   "execution_count": 60,
   "id": "75be541f",
   "metadata": {},
   "outputs": [
    {
     "name": "stdout",
     "output_type": "stream",
     "text": [
      "50 145\n"
     ]
    },
    {
     "data": {
      "text/plain": [
       "<matplotlib.image.AxesImage at 0x144e68827f0>"
      ]
     },
     "execution_count": 60,
     "metadata": {},
     "output_type": "execute_result"
    },
    {
     "data": {
      "image/png": "[encoded data removed]",
      "text/plain": [
       "<Figure size 432x288 with 1 Axes>"
      ]
     },
     "metadata": {
      "needs_background": "light"
     },
     "output_type": "display_data"
    }
   ],
   "source": [
    "count = 0\n",
    "new_img = img\n",
    "pixels = new_img.load()\n",
    "new_img = Image.new(img.mode, img.size)\n",
    "print(new_img.size[1],new_img.size[0])\n",
    "\n",
    "# xoa doc\n",
    "for i in range(new_img.size[0]):\n",
    "    for j in range(new_img.size[1]):\n",
    "        r, b, g = pixels[i,j]\n",
    "        if r != 255 and g != 255 and b != 255:\n",
    "            count += 1\n",
    "        else:\n",
    "            if 0 < count <= 3:\n",
    "                while count != 0:\n",
    "                    pixels[i,j-count] = (255, 255, 255)\n",
    "                    count -= 1\n",
    "            else:\n",
    "                count = 0\n",
    "# xoa ngang\n",
    "for j in range(new_img.size[1]):\n",
    "    for i in range(new_img.size[0]):\n",
    "        r, b, g = pixels[i,j]\n",
    "        if r != 255 and g != 255 and b != 255:\n",
    "            count += 1\n",
    "        else:\n",
    "            if 0 < count <= 3:\n",
    "                while count != 0:\n",
    "                    pixels[i-count,j] = (255, 255, 255)\n",
    "                    count -= 1\n",
    "            else:\n",
    "                count = 0\n",
    "plt.imshow(img)"
   ]
  },
  {
   "cell_type": "code",
   "execution_count": 61,
   "id": "bd4c4619",
   "metadata": {},
   "outputs": [
    {
     "name": "stdout",
     "output_type": "stream",
     "text": [
      "start: 8 15\n",
      "68 49\n",
      "start: 70 36\n",
      "89 49\n"
     ]
    }
   ],
   "source": [
    "new_img = img\n",
    "pixels = new_img.load()\n",
    "new_img = Image.new(img.mode, img.size)\n",
    "start = False\n",
    "end = False\n",
    "count = 0\n",
    "\n",
    "# # cord\n",
    "# x1 = \n",
    "\n",
    "for i in range(new_img.size[0]):\n",
    "    for j in range(new_img.size[1]):\n",
    "        r, b, g = pixels[i,j]\n",
    "        if r != 255 and g != 255 and b != 255:\n",
    "            if start == False:\n",
    "                start = True\n",
    "                print('start: '+str(i), j)\n",
    "        if start == True:\n",
    "            if r != 255 and g != 255 and b != 255:\n",
    "                count += 1\n",
    "    if count == 0 and start == True:\n",
    "        start = False\n",
    "        print(i, j)\n",
    "    else:\n",
    "        count = 0\n"
   ]
  },
  {
   "cell_type": "code",
   "execution_count": 62,
   "id": "295a50ed",
   "metadata": {},
   "outputs": [
    {
     "name": "stdout",
     "output_type": "stream",
     "text": [
      "(60, 50)\n"
     ]
    },
    {
     "data": {
      "text/plain": [
       "<matplotlib.image.AxesImage at 0x144e78b05e0>"
      ]
     },
     "execution_count": 62,
     "metadata": {},
     "output_type": "execute_result"
    },
    {
     "data": {
      "image/png": "[encoded data removed]",
      "text/plain": [
       "<Figure size 432x288 with 1 Axes>"
      ]
     },
     "metadata": {
      "needs_background": "light"
     },
     "output_type": "display_data"
    }
   ],
   "source": [
    "img_split = img.crop((8, 0, 68, 50))\n",
    "print(img_split.size)\n",
    "plt.imshow(img_split)"
   ]
  },
  {
   "cell_type": "code",
   "execution_count": null,
   "id": "3edf1497",
   "metadata": {},
   "outputs": [],
   "source": [
    "# 19\n",
    "# 20"
   ]
  }
 ],
 "metadata": {
  "kernelspec": {
   "display_name": "Python 3 (ipykernel)",
   "language": "python",
   "name": "python3"
  },
  "language_info": {
   "codemirror_mode": {
    "name": "ipython",
    "version": 3
   },
   "file_extension": ".py",
   "mimetype": "text/x-python",
   "name": "python",
   "nbconvert_exporter": "python",
   "pygments_lexer": "ipython3",
   "version": "3.9.5"
  }
 },
 "nbformat": 4,
 "nbformat_minor": 5
}
