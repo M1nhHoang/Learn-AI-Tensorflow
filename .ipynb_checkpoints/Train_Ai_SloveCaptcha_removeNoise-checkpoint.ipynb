{
 "cells": [
  {
   "cell_type": "code",
   "execution_count": 1,
   "id": "ce103296",
   "metadata": {},
   "outputs": [],
   "source": [
    "import numpy as np\n",
    "from PIL import Image\n",
    "import matplotlib.pyplot as plt\n",
    "import tensorflow as tf\n",
    "import keras\n",
    "from keras import layers"
   ]
  },
  {
   "cell_type": "code",
   "execution_count": 2,
   "id": "4e36d65a",
   "metadata": {},
   "outputs": [],
   "source": [
    "# train dataset\n",
    "train_file = r'C:\\Users\\HP\\Desktop\\Data_Train_Ai_CapCha\\trainDataset_captcha\\data.txt'\n",
    "read_txt = open(train_file, encoding=\"utf8\")\n",
    "\n",
    "train_data = [s.strip() for s in read_txt.readlines()]\n",
    "# test_val dataset\n",
    "test_file = r'C:\\Users\\HP\\Desktop\\Data_Train_Ai_CapCha\\testDataset_captcha\\data.txt'\n",
    "read_txt = open(test_file, encoding=\"utf8\")\n",
    "\n",
    "test_data = [s.strip() for s in read_txt.readlines()]"
   ]
  },
  {
   "cell_type": "code",
   "execution_count": 3,
   "id": "fbf82acf",
   "metadata": {},
   "outputs": [],
   "source": [
    "# xoa nhieu\n",
    "def noise_removal(url):\n",
    "    from PIL import Image\n",
    "    img = Image.open(url)\n",
    "    pixels = img.load()\n",
    "\n",
    "    new_img = Image.new(img.mode, img.size)\n",
    "    pixels_new = new_img.load()\n",
    "    # lấy mã màu kiểm tra\n",
    "    # góc trái trên\n",
    "    r_topLeft, b_topLeft, g_topLeft = pixels[1, 1]\n",
    "    # góc phải trên\n",
    "    r_topRight, b_topRight, g_topRight = pixels[1, new_img.size[1]-1]\n",
    "    # góc phải dưỡi\n",
    "    r_botRight, b_botRight, g_botRight = pixels[new_img.size[0]-1, new_img.size[1]-1]\n",
    "    # góc trái dưỡi\n",
    "    r_botLeft, b_botLeft, g_botLeft = pixels[new_img.size[0]-1, 1]\n",
    "    # ở giưa\n",
    "    r_middle, b_middle, g_middle = pixels[new_img.size[0]-1, 1]\n",
    "\n",
    "    difference_color = 100\n",
    "    list_check = []\n",
    "    row_check = []\n",
    "    if r_middle - r_topLeft < difference_color or b_middle - b_topLeft < difference_color or g_middle - g_topLeft < difference_color:\n",
    "        row_check.append(1)\n",
    "        row_check.append(r_topLeft)\n",
    "        row_check.append(b_topLeft)\n",
    "        row_check.append(g_topLeft)\n",
    "    else:\n",
    "        row_check.append(0)\n",
    "        row_check.append(r_topLeft)\n",
    "        row_check.append(b_topLeft)\n",
    "        row_check.append(g_topLeft)\n",
    "    list_check.append(row_check)\n",
    "    row_check = []\n",
    "    if r_middle - r_topRight < difference_color or b_middle - b_topRight < difference_color or g_middle - g_topRight < difference_color:\n",
    "        row_check.append(1)\n",
    "        row_check.append(r_topRight)\n",
    "        row_check.append(b_topRight)\n",
    "        row_check.append(g_topRight)\n",
    "    else:\n",
    "        row_check.append(0)\n",
    "        row_check.append(r_topRight)\n",
    "        row_check.append(b_topRight)\n",
    "        row_check.append(g_topRight)\n",
    "    list_check.append(row_check)\n",
    "    row_check = []  \n",
    "    if r_middle - r_botRight < difference_color or b_middle - b_botRight < difference_color or g_middle - g_botRight < difference_color:\n",
    "        row_check.append(1)\n",
    "        row_check.append(r_botRight)\n",
    "        row_check.append(b_botRight)\n",
    "        row_check.append(g_botRight)\n",
    "    else:\n",
    "        row_check.append(0)\n",
    "        row_check.append(r_botRight)\n",
    "        row_check.append(b_botRight)\n",
    "        row_check.append(g_botRight)\n",
    "    list_check.append(row_check)\n",
    "    row_check = []\n",
    "    if r_middle - r_botLeft < difference_color or b_middle - b_botLeft < difference_color or g_middle - g_botLeft < difference_color:\n",
    "        row_check.append(1)\n",
    "        row_check.append(r_botLeft)\n",
    "        row_check.append(b_botLeft)\n",
    "        row_check.append(g_botLeft)\n",
    "    else:\n",
    "        row_check.append(0)   \n",
    "        row_check.append(r_botLeft)\n",
    "        row_check.append(b_botLeft)\n",
    "        row_check.append(g_botLeft)\n",
    "    list_check.append(row_check)\n",
    "    count = 0\n",
    "    for check_color in range(len(list_check)):\n",
    "        if list_check[check_color][0] == 1:\n",
    "            count += 1\n",
    "    if count <= 2:\n",
    "        main_color = [list_check[check_color][1], list_check[check_color][2], list_check[check_color][3]]\n",
    "        for i in range(new_img.size[0]):\n",
    "            for j in range(new_img.size[1]):\n",
    "                r, b, g = pixels[i,j]\n",
    "                if main_color[0] - difference_color < r < main_color[0] + difference_color or main_color[1] - difference_color < g < main_color[1] + difference_color or main_color[2] - difference_color < b < main_color[2] + difference_color:\n",
    "                    pixels_new[i,j] = (255, 255, 255)\n",
    "                else:\n",
    "                    pixels_new[i,j] = (0, 0, 0)\n",
    "    else:\n",
    "        for check_color in range(len(list_check)):\n",
    "            if list_check[check_color][0] == 1:\n",
    "                main_color = [list_check[check_color][1], list_check[check_color][2], list_check[check_color][3]]\n",
    "                break\n",
    "\n",
    "        for i in range(new_img.size[0]):\n",
    "            for j in range(new_img.size[1]):\n",
    "                r, b, g = pixels[i,j]\n",
    "                if main_color[0] - difference_color < r < main_color[0] + difference_color or main_color[1] - difference_color < g < main_color[1] + difference_color or main_color[2] - difference_color < b < main_color[2] + difference_color:\n",
    "                    pixels_new[i,j] = (255, 255, 255)\n",
    "                else:\n",
    "                    pixels_new[i,j] = (0, 0, 0)\n",
    "                    \n",
    "    # xoa nhieu\n",
    "    count = 0\n",
    "    for i in range(new_img.size[0]):\n",
    "        for j in range(new_img.size[1]):\n",
    "            r, b, g = pixels_new[i,j]\n",
    "            if r != 255 and g != 255 and b != 255:\n",
    "                count += 1\n",
    "            else:\n",
    "                if 0 < count <= 3:\n",
    "                    while count != 0:\n",
    "                        pixels_new[i,j-count] = (255, 255, 255)\n",
    "                        count -= 1\n",
    "                else:\n",
    "                    count = 0\n",
    "    # xoa ngang\n",
    "    for j in range(new_img.size[1]):\n",
    "        for i in range(new_img.size[0]):\n",
    "            r, b, g = pixels_new[i,j]\n",
    "            if r != 255 and g != 255 and b != 255:\n",
    "                count += 1\n",
    "            else:\n",
    "                if 0 < count <= 3:\n",
    "                    while count != 0:\n",
    "                        pixels_new[i-count,j] = (255, 255, 255)\n",
    "                        count -= 1\n",
    "                else:\n",
    "                    count = 0\n",
    "\n",
    "    return new_img"
   ]
  },
  {
   "cell_type": "code",
   "execution_count": 4,
   "id": "82954010",
   "metadata": {},
   "outputs": [],
   "source": [
    "def covert_label_to_array(captcha_label, char_):\n",
    "    new_label = []\n",
    "    for captcha in captcha_label:\n",
    "        char_label = []\n",
    "        for char in captcha:\n",
    "            char_label.append(char_.index(char))\n",
    "        new_label.append(char_label)\n",
    "    return new_label\n",
    "\n",
    "def decode_batch_predictions(pred, char_):\n",
    "    max_length = 5\n",
    "    input_len = np.ones(pred.shape[0]) * pred.shape[1]\n",
    "    # Use greedy search. For complex tasks, you can use beam search\n",
    "    results = keras.backend.ctc_decode(pred, input_length=input_len, greedy=True)[0][0][\n",
    "        :, :max_length\n",
    "    ]\n",
    "    # Iterate over the results and get back the text\n",
    "    output_text = ''\n",
    "    #conver to text\n",
    "    for res in results:\n",
    "        res = np.array(res)\n",
    "        for r in res:\n",
    "            try:\n",
    "                output_text += char_[int(r)]\n",
    "            except:\n",
    "                output_text += '[UNK]'\n",
    "    return output_text"
   ]
  },
  {
   "cell_type": "code",
   "execution_count": 5,
   "id": "460ed74d",
   "metadata": {},
   "outputs": [
    {
     "name": "stdout",
     "output_type": "stream",
     "text": [
      "['Z', 'S', 'R', 'X', 't', 'e', 'U', 'K', 'B', 'Q', 'f', 'r', 's', 'q', 'T', 'n', 'p', 'v', 'g', 'c', '4', 'j', 'G', 'C', '8', '2', 'z', 'H', 'd', '9', 'a', 'k', '3', 'h', 'b', 'u', '7', 'F', 'x', 'V', '5', '6', 'm', 'P', 'y']\n"
     ]
    }
   ],
   "source": [
    "# train data\n",
    "url_dir = r'C:\\Users\\HP\\Desktop\\Data_Train_Ai_CapCha\\trainDataset_captcha\\\\'\n",
    "captcha_image = []\n",
    "captcha_label = []\n",
    "for captcha in train_data:\n",
    "    img = np.array(noise_removal(url_dir+captcha[:captcha.find(\":\")]+'.png').convert('L')).reshape(50, 145, 1)\n",
    "    captcha_label.append(str(captcha[captcha.find(\":\")+1:]))\n",
    "    captcha_image.append(img)\n",
    "    \n",
    "char_ = list(set(char for label in captcha_label for char in label))\n",
    "print(char_)\n",
    "captcha_label = covert_label_to_array(captcha_label, char_)\n",
    "\n",
    "x_train, y_train = captcha_image, captcha_label"
   ]
  },
  {
   "cell_type": "code",
   "execution_count": 6,
   "id": "db01ab28",
   "metadata": {},
   "outputs": [],
   "source": [
    "# test data\n",
    "url_dir = r'C:\\Users\\HP\\Desktop\\Data_Train_Ai_CapCha\\testDataset_captcha\\\\'\n",
    "captcha_image = []\n",
    "captcha_label = []\n",
    "for captcha in test_data:\n",
    "    img = np.array(noise_removal(url_dir+captcha[:captcha.find(\":\")]+'.png').convert('L')).reshape(50, 145, 1)\n",
    "    captcha_label.append(str(captcha[captcha.find(\":\")+1:]))\n",
    "    captcha_image.append(img)\n",
    "\n",
    "captcha_label = np.array(covert_label_to_array(captcha_label, char_))\n",
    "\n",
    "from sklearn.model_selection import train_test_split\n",
    "x_test, x_val, y_test, y_val = train_test_split(captcha_image, captcha_label, test_size = 0.5)"
   ]
  },
  {
   "cell_type": "code",
   "execution_count": 7,
   "id": "a03ef271",
   "metadata": {},
   "outputs": [
    {
     "data": {
      "image/png": "[encoded data removed]",
      "text/plain": [
       "<Figure size 432x288 with 9 Axes>"
      ]
     },
     "metadata": {
      "needs_background": "light"
     },
     "output_type": "display_data"
    }
   ],
   "source": [
    "# vẽ một số dữ liệu\n",
    "import matplotlib.pyplot as plt\n",
    "for i in range(9):\n",
    "    plt.subplot(3, 3, i+1)\n",
    "    plt.title(str(captcha_label[i]))\n",
    "    plt.imshow(captcha_image[i])\n"
   ]
  },
  {
   "cell_type": "code",
   "execution_count": 8,
   "id": "7873217f",
   "metadata": {},
   "outputs": [
    {
     "name": "stdout",
     "output_type": "stream",
     "text": [
      "(79612, 50, 145, 1)\n",
      "(79612, 5)\n",
      "(1011, 50, 145, 1)\n",
      "(1011, 5)\n",
      "(1012, 50, 145, 1)\n",
      "(1012, 5)\n"
     ]
    }
   ],
   "source": [
    "x_train, x_test, y_train, y_test, x_val, y_val = np.array(x_train), np.array(x_test),  np.array(y_train), np.array(y_test), np.array(x_val), np.array(y_val)\n",
    "\n",
    "print(x_train.shape)\n",
    "print(y_train.shape)\n",
    "print(x_test.shape)\n",
    "print(y_test.shape)\n",
    "print(x_val.shape)\n",
    "print(y_val.shape)"
   ]
  },
  {
   "cell_type": "code",
   "execution_count": 9,
   "id": "7b1b8b8d",
   "metadata": {},
   "outputs": [],
   "source": [
    "# chuyển dữ liệu x_train về khoảng 0 và 1\n",
    "\n",
    "x_train, x_test, x_val = x_train/ 255.0, x_test/ 255.0, x_val/ 255.0"
   ]
  },
  {
   "cell_type": "code",
   "execution_count": 10,
   "id": "83702a14",
   "metadata": {},
   "outputs": [
    {
     "name": "stdout",
     "output_type": "stream",
     "text": [
      "(79612, 50, 145, 1)\n",
      "(79612, 5)\n"
     ]
    }
   ],
   "source": [
    "print(x_train.shape)\n",
    "print(y_train.shape)"
   ]
  },
  {
   "cell_type": "code",
   "execution_count": 11,
   "id": "7912c4bc",
   "metadata": {},
   "outputs": [],
   "source": [
    "class CTCLayer(layers.Layer):\n",
    "    def __init__(self, name=None, **kwargs):\n",
    "        super().__init__(name=name)\n",
    "        self.loss_fn = keras.backend.ctc_batch_cost\n",
    "\n",
    "    def call(self, y_true, y_pred):\n",
    "        # Compute the training-time loss value and add it\n",
    "        # to the layer using `self.add_loss()`.\n",
    "        batch_len = tf.cast(tf.shape(y_true)[0], dtype=\"int64\")\n",
    "        input_length = tf.cast(tf.shape(y_pred)[1], dtype=\"int64\")\n",
    "        label_length = tf.cast(tf.shape(y_true)[1], dtype=\"int64\")\n",
    "\n",
    "        input_length = input_length * tf.ones(shape=(batch_len, 1), dtype=\"int64\")\n",
    "        label_length = label_length * tf.ones(shape=(batch_len, 1), dtype=\"int64\")\n",
    "\n",
    "        loss = self.loss_fn(y_true, y_pred, input_length, label_length)\n",
    "        self.add_loss(loss)\n",
    "\n",
    "        # At test time, just return the computed predictions\n",
    "        return y_pred\n",
    "\n",
    "\n",
    "def build_model():\n",
    "    img_width = 145\n",
    "    img_height = 50\n",
    "    # Inputs to the model\n",
    "    input_img = layers.Input(shape=(img_height, img_width, 1), name=\"image\", dtype=\"float32\")\n",
    "    labels = layers.Input(name=\"label\", shape=(5,), dtype=\"float32\")\n",
    "\n",
    "    # First conv block\n",
    "    x = layers.Conv2D(32,(3, 3),activation=\"relu\",kernel_initializer=\"he_normal\",padding=\"same\",name=\"Conv1\",)(input_img)\n",
    "    x = layers.MaxPooling2D((2, 2), name=\"pool1\")(x)\n",
    "\n",
    "    # Second conv block\n",
    "    x = layers.Conv2D(64,(3, 3),activation=\"relu\",kernel_initializer=\"he_normal\",padding=\"same\",name=\"Conv2\",)(x)\n",
    "    x = layers.MaxPooling2D((2, 2), name=\"pool2\")(x)\n",
    "\n",
    "    new_shape = ((img_height // 4), (img_width // 4) * 64)\n",
    "    x = layers.Reshape(target_shape=new_shape, name=\"reshape\")(x)\n",
    "    x = layers.Dense(64, activation=\"relu\", name=\"dense1\")(x)\n",
    "    x = layers.Dropout(0.2)(x)\n",
    "\n",
    "    # RNNs\n",
    "    x = layers.Bidirectional(layers.LSTM(128, return_sequences=True, dropout=0.25))(x)\n",
    "    x = layers.Bidirectional(layers.LSTM(64, return_sequences=True, dropout=0.25))(x)\n",
    "\n",
    "    # Output layer\n",
    "    x = layers.Dense(len(char_) + 1, activation=\"softmax\", name=\"dense2\")(x)\n",
    "\n",
    "    # Add CTC layer for calculating CTC loss at each step\n",
    "    output = CTCLayer(name=\"ctc_loss\")(labels, x)\n",
    "\n",
    "    # Define the model\n",
    "    model = keras.models.Model(\n",
    "        inputs=[input_img, labels], outputs=output, name=\"ocr_model_v1\")\n",
    "    # Optimizer\n",
    "    opt = keras.optimizers.Adam()\n",
    "    # Compile the model and return\n",
    "    model.compile(optimizer=opt)\n",
    "    return model"
   ]
  },
  {
   "cell_type": "code",
   "execution_count": 12,
   "id": "7e411be6",
   "metadata": {},
   "outputs": [
    {
     "name": "stdout",
     "output_type": "stream",
     "text": [
      "Model: \"ocr_model_v1\"\n",
      "__________________________________________________________________________________________________\n",
      " Layer (type)                   Output Shape         Param #     Connected to                     \n",
      "==================================================================================================\n",
      " image (InputLayer)             [(None, 50, 145, 1)  0           []                               \n",
      "                                ]                                                                 \n",
      "                                                                                                  \n",
      " Conv1 (Conv2D)                 (None, 50, 145, 32)  320         ['image[0][0]']                  \n",
      "                                                                                                  \n",
      " pool1 (MaxPooling2D)           (None, 25, 72, 32)   0           ['Conv1[0][0]']                  \n",
      "                                                                                                  \n",
      " Conv2 (Conv2D)                 (None, 25, 72, 64)   18496       ['pool1[0][0]']                  \n",
      "                                                                                                  \n",
      " pool2 (MaxPooling2D)           (None, 12, 36, 64)   0           ['Conv2[0][0]']                  \n",
      "                                                                                                  \n",
      " reshape (Reshape)              (None, 12, 2304)     0           ['pool2[0][0]']                  \n",
      "                                                                                                  \n",
      " dense1 (Dense)                 (None, 12, 64)       147520      ['reshape[0][0]']                \n",
      "                                                                                                  \n",
      " dropout (Dropout)              (None, 12, 64)       0           ['dense1[0][0]']                 \n",
      "                                                                                                  \n",
      " bidirectional (Bidirectional)  (None, 12, 256)      197632      ['dropout[0][0]']                \n",
      "                                                                                                  \n",
      " bidirectional_1 (Bidirectional  (None, 12, 128)     164352      ['bidirectional[0][0]']          \n",
      " )                                                                                                \n",
      "                                                                                                  \n",
      " label (InputLayer)             [(None, 5)]          0           []                               \n",
      "                                                                                                  \n",
      " dense2 (Dense)                 (None, 12, 46)       5934        ['bidirectional_1[0][0]']        \n",
      "                                                                                                  \n",
      " ctc_loss (CTCLayer)            (None, 12, 46)       0           ['label[0][0]',                  \n",
      "                                                                  'dense2[0][0]']                 \n",
      "                                                                                                  \n",
      "==================================================================================================\n",
      "Total params: 534,254\n",
      "Trainable params: 534,254\n",
      "Non-trainable params: 0\n",
      "__________________________________________________________________________________________________\n"
     ]
    }
   ],
   "source": [
    "model = build_model()\n",
    "model.summary()"
   ]
  },
  {
   "cell_type": "code",
   "execution_count": 13,
   "id": "68d864aa",
   "metadata": {},
   "outputs": [
    {
     "name": "stdout",
     "output_type": "stream",
     "text": [
      "Epoch 1/25\n",
      "3981/3981 [==============================] - 237s 53ms/step - loss: 12.1765 - val_loss: 8.9218\n",
      "Epoch 2/25\n",
      "3981/3981 [==============================] - 199s 50ms/step - loss: 5.2259 - val_loss: 6.0770\n",
      "Epoch 3/25\n",
      "3981/3981 [==============================] - 185s 46ms/step - loss: 3.1196 - val_loss: 4.8203\n",
      "Epoch 4/25\n",
      "3981/3981 [==============================] - 201s 50ms/step - loss: 2.3449 - val_loss: 3.7641\n",
      "Epoch 5/25\n",
      "3981/3981 [==============================] - 202s 51ms/step - loss: 1.9148 - val_loss: 3.5258\n",
      "Epoch 6/25\n",
      "3981/3981 [==============================] - 200s 50ms/step - loss: 1.6211 - val_loss: 2.5999\n",
      "Epoch 7/25\n",
      "3981/3981 [==============================] - 198s 50ms/step - loss: 1.4268 - val_loss: 2.5095\n",
      "Epoch 8/25\n",
      "3981/3981 [==============================] - 192s 48ms/step - loss: 1.2856 - val_loss: 2.2670\n",
      "Epoch 9/25\n",
      "3981/3981 [==============================] - 196s 49ms/step - loss: 1.1837 - val_loss: 2.6930\n",
      "Epoch 10/25\n",
      "3981/3981 [==============================] - 194s 49ms/step - loss: 1.1006 - val_loss: 1.7206\n",
      "Epoch 11/25\n",
      "3981/3981 [==============================] - 189s 47ms/step - loss: 1.0413 - val_loss: 1.7088\n",
      "Epoch 12/25\n",
      "3981/3981 [==============================] - 190s 48ms/step - loss: 0.9873 - val_loss: 1.7700\n",
      "Epoch 13/25\n",
      "3981/3981 [==============================] - 184s 46ms/step - loss: 0.9445 - val_loss: 1.5647\n",
      "Epoch 14/25\n",
      "3981/3981 [==============================] - 190s 48ms/step - loss: 0.8969 - val_loss: 1.5394\n",
      "Epoch 15/25\n",
      "3981/3981 [==============================] - 186s 47ms/step - loss: 0.8654 - val_loss: 1.5527\n",
      "Epoch 16/25\n",
      "3981/3981 [==============================] - 185s 47ms/step - loss: 0.8318 - val_loss: 1.5711\n",
      "Epoch 17/25\n",
      "3981/3981 [==============================] - 183s 46ms/step - loss: 0.8155 - val_loss: 1.4328\n",
      "Epoch 18/25\n",
      "3981/3981 [==============================] - 181s 46ms/step - loss: 0.7903 - val_loss: 1.3687\n",
      "Epoch 19/25\n",
      "3981/3981 [==============================] - 203s 51ms/step - loss: 0.7565 - val_loss: 1.3266\n",
      "Epoch 20/25\n",
      "3981/3981 [==============================] - 192s 48ms/step - loss: 0.7411 - val_loss: 1.2671\n",
      "Epoch 21/25\n",
      "3981/3981 [==============================] - 194s 49ms/step - loss: 0.7289 - val_loss: 1.2556\n",
      "Epoch 22/25\n",
      "3981/3981 [==============================] - 192s 48ms/step - loss: 0.7069 - val_loss: 1.2618\n",
      "Epoch 23/25\n",
      "3981/3981 [==============================] - 186s 47ms/step - loss: 0.6972 - val_loss: 1.2212\n",
      "Epoch 24/25\n",
      "3981/3981 [==============================] - 199s 50ms/step - loss: 0.6835 - val_loss: 1.1637\n",
      "Epoch 25/25\n",
      "3981/3981 [==============================] - 190s 48ms/step - loss: 0.6593 - val_loss: 1.2226\n"
     ]
    }
   ],
   "source": [
    "def encode_single_sample(img, label):\n",
    "    return {\"image\": img, \"label\": label}\n",
    "import tensorflow as tf\n",
    "\n",
    "batch_size = 20\n",
    "with tf.device('/cpu:0'): \n",
    "    train_dataset = tf.data.Dataset.from_tensor_slices((x_train, y_train))\n",
    "    train_dataset = (train_dataset.map(encode_single_sample).batch(batch_size))\n",
    "\n",
    "val_dataset = tf.data.Dataset.from_tensor_slices((x_val, y_val))\n",
    "val_dataset = (val_dataset.map(encode_single_sample).batch(batch_size))\n",
    "\n",
    "with tf.device('/gpu:0'):\n",
    "    history = model.fit(train_dataset, epochs=25, validation_data=(val_dataset))"
   ]
  },
  {
   "cell_type": "code",
   "execution_count": 14,
   "id": "4609a3fc",
   "metadata": {
    "scrolled": true
   },
   "outputs": [
    {
     "data": {
      "image/png": "[encoded data removed]",
      "text/plain": [
       "<Figure size 432x288 with 1 Axes>"
      ]
     },
     "metadata": {
      "needs_background": "light"
     },
     "output_type": "display_data"
    }
   ],
   "source": [
    "plt.plot(history.history['loss'], label='loss')\n",
    "plt.plot(history.history['val_loss'], label = 'val_loss')\n",
    "plt.xlabel('Epoch')\n",
    "plt.ylabel('Loss')\n",
    "plt.legend(loc='lower right')\n",
    "plt.show()"
   ]
  },
  {
   "cell_type": "code",
   "execution_count": 15,
   "id": "a99ece0d",
   "metadata": {},
   "outputs": [],
   "source": [
    "# save model\n",
    "model.save('Module_SolveCaptcha.h5')"
   ]
  },
  {
   "cell_type": "code",
   "execution_count": 16,
   "id": "0b64fd99",
   "metadata": {},
   "outputs": [
    {
     "name": "stdout",
     "output_type": "stream",
     "text": [
      "Model: \"model\"\n",
      "_________________________________________________________________\n",
      " Layer (type)                Output Shape              Param #   \n",
      "=================================================================\n",
      " image (InputLayer)          [(None, 50, 145, 1)]      0         \n",
      "                                                                 \n",
      " Conv1 (Conv2D)              (None, 50, 145, 32)       320       \n",
      "                                                                 \n",
      " pool1 (MaxPooling2D)        (None, 25, 72, 32)        0         \n",
      "                                                                 \n",
      " Conv2 (Conv2D)              (None, 25, 72, 64)        18496     \n",
      "                                                                 \n",
      " pool2 (MaxPooling2D)        (None, 12, 36, 64)        0         \n",
      "                                                                 \n",
      " reshape (Reshape)           (None, 12, 2304)          0         \n",
      "                                                                 \n",
      " dense1 (Dense)              (None, 12, 64)            147520    \n",
      "                                                                 \n",
      " dropout (Dropout)           (None, 12, 64)            0         \n",
      "                                                                 \n",
      " bidirectional (Bidirectiona  (None, 12, 256)          197632    \n",
      " l)                                                              \n",
      "                                                                 \n",
      " bidirectional_1 (Bidirectio  (None, 12, 128)          164352    \n",
      " nal)                                                            \n",
      "                                                                 \n",
      " dense2 (Dense)              (None, 12, 46)            5934      \n",
      "                                                                 \n",
      "=================================================================\n",
      "Total params: 534,254\n",
      "Trainable params: 534,254\n",
      "Non-trainable params: 0\n",
      "_________________________________________________________________\n"
     ]
    }
   ],
   "source": [
    "prediction_model = keras.models.Model(model.get_layer(name=\"image\").input, model.get_layer(name=\"dense2\").output)\n",
    "prediction_model.summary()"
   ]
  },
  {
   "cell_type": "code",
   "execution_count": 18,
   "id": "b1e0eb04",
   "metadata": {},
   "outputs": [
    {
     "name": "stdout",
     "output_type": "stream",
     "text": [
      "WARNING:tensorflow:Compiled the loaded model, but the compiled metrics have yet to be built. `model.compile_metrics` will be empty until you train or evaluate the model.\n"
     ]
    }
   ],
   "source": [
    "# save model\n",
    "prediction_model.save('Module_PredictCaptcha.h5')"
   ]
  },
  {
   "cell_type": "code",
   "execution_count": 19,
   "id": "3d02679b",
   "metadata": {},
   "outputs": [
    {
     "name": "stdout",
     "output_type": "stream",
     "text": [
      "1/1 [==============================] - 2s 2s/step\n",
      "1/1 [==============================] - 0s 23ms/step\n",
      "1/1 [==============================] - 0s 29ms/step\n",
      "1/1 [==============================] - 0s 26ms/step\n",
      "1/1 [==============================] - 0s 24ms/step\n",
      "1/1 [==============================] - 0s 25ms/step\n",
      "1/1 [==============================] - 0s 24ms/step\n",
      "1/1 [==============================] - 0s 23ms/step\n",
      "1/1 [==============================] - 0s 23ms/step\n"
     ]
    },
    {
     "data": {
      "image/png": "[encoded data removed]",
      "text/plain": [
       "<Figure size 432x288 with 9 Axes>"
      ]
     },
     "metadata": {
      "needs_background": "light"
     },
     "output_type": "display_data"
    }
   ],
   "source": [
    "from PIL import Image\n",
    "import numpy as np\n",
    "for i in range(9):\n",
    "    plt.subplot(3, 3, i+1)\n",
    "    img = x_test[i]\n",
    "    \n",
    "    \n",
    "    img = np.array(img)\n",
    "    plt.imshow(img)\n",
    "    img = img.reshape(50, 145, 1) \n",
    "    \n",
    "    new_img = tf.expand_dims(img,0)\n",
    "#     new_img = new_img / 255\n",
    "    preds = prediction_model.predict(new_img)\n",
    "    pred_texts = decode_batch_predictions(preds, char_)\n",
    "    \n",
    "    plt.title(pred_texts)\n",
    "    "
   ]
  },
  {
   "cell_type": "code",
   "execution_count": 23,
   "id": "ab696641",
   "metadata": {},
   "outputs": [
    {
     "name": "stdout",
     "output_type": "stream",
     "text": [
      "(50, 145)\n",
      "1/1 [==============================] - 0s 51ms/step\n"
     ]
    },
    {
     "data": {
      "text/plain": [
       "Text(0.5, 1.0, '3pua6')"
      ]
     },
     "execution_count": 23,
     "metadata": {},
     "output_type": "execute_result"
    },
    {
     "data": {
      "image/png": "[encoded data removed]",
      "text/plain": [
       "<Figure size 432x288 with 1 Axes>"
      ]
     },
     "metadata": {
      "needs_background": "light"
     },
     "output_type": "display_data"
    }
   ],
   "source": [
    "from tensorflow.keras.models import load_model\n",
    "import tensorflow as tf\n",
    "# load the model from file\n",
    "# model = load_model('Module_SolveCaptcha.h5', custom_objects={'CTCLayer': CTCLayer}) \n",
    "# prediction_model = keras.models.Model(model.get_layer(name=\"image\").input, model.get_layer(name=\"dense2\").output)\n",
    "\n",
    "img = noise_removal(r'C:\\Users\\HP\\Desktop\\Data_Train_Ai_CapCha\\trainDataset_captcha\\3089e0ec-1dba-470d-a765-fff340a67f7d.png').convert('L')\n",
    "img = img.resize((145, 50))\n",
    "img = np.array(img)\n",
    "plt.imshow(img)\n",
    "print(img.shape)\n",
    "img = img.reshape(50, 145, 1)\n",
    "new_img = tf.expand_dims(img,0)\n",
    "new_img = new_img / 255\n",
    "preds = prediction_model.predict(new_img)\n",
    "pred_texts = decode_batch_predictions(preds, char_)\n",
    "plt.title(pred_texts)"
   ]
  },
  {
   "cell_type": "code",
   "execution_count": null,
   "id": "69adf6c2",
   "metadata": {},
   "outputs": [],
   "source": []
  }
 ],
 "metadata": {
  "kernelspec": {
   "display_name": "Python 3 (ipykernel)",
   "language": "python",
   "name": "python3"
  },
  "language_info": {
   "codemirror_mode": {
    "name": "ipython",
    "version": 3
   },
   "file_extension": ".py",
   "mimetype": "text/x-python",
   "name": "python",
   "nbconvert_exporter": "python",
   "pygments_lexer": "ipython3",
   "version": "3.9.5"
  }
 },
 "nbformat": 4,
 "nbformat_minor": 5
}
