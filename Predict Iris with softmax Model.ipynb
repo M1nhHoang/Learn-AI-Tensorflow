{
 "cells": [
  {
   "cell_type": "code",
   "execution_count": 1,
   "id": "3d3d105f",
   "metadata": {},
   "outputs": [],
   "source": [
    "from sklearn.model_selection import train_test_split\n",
    "import tensorflow as tf\n",
    "from sklearn import datasets"
   ]
  },
  {
   "cell_type": "code",
   "execution_count": 2,
   "id": "518c86bf",
   "metadata": {},
   "outputs": [],
   "source": [
    "# import some data to play with\n",
    "iris = datasets.load_iris()\n",
    "X = iris.data  # we only take the first two features.\n",
    "y = iris.target"
   ]
  },
  {
   "cell_type": "code",
   "execution_count": 3,
   "id": "a602f616",
   "metadata": {},
   "outputs": [
    {
     "name": "stdout",
     "output_type": "stream",
     "text": [
      "Sepal shape (150,)\n",
      "irises shape (150,)\n"
     ]
    }
   ],
   "source": [
    "print(f'Sepal shape {X[:, 0].shape}')\n",
    "print(f'irises shape {y.shape}')"
   ]
  },
  {
   "cell_type": "code",
   "execution_count": 4,
   "id": "83274f38",
   "metadata": {},
   "outputs": [],
   "source": [
    "label = ['setosa', 'versicolor', 'virginica']"
   ]
  },
  {
   "cell_type": "code",
   "execution_count": 5,
   "id": "fc9e2fd3",
   "metadata": {},
   "outputs": [],
   "source": [
    "# chia train và test\n",
    "x_train, x_test, y_train, y_test = train_test_split(X, y, test_size=0.2, random_state=42)"
   ]
  },
  {
   "cell_type": "code",
   "execution_count": 6,
   "id": "0da13430",
   "metadata": {},
   "outputs": [
    {
     "name": "stdout",
     "output_type": "stream",
     "text": [
      "shape X train numbers : (120, 4)\n",
      "shape y train result : (120,)\n",
      "-----------------------------------------\n",
      "shape X test numbers : (30, 4)\n",
      "shape y test result : (30,)\n"
     ]
    }
   ],
   "source": [
    "print('shape X train numbers : '+ str(x_train.shape))\n",
    "print('shape y train result : '+ str(y_train.shape))\n",
    "print('-----------------------------------------')\n",
    "print('shape X test numbers : '+ str(x_test.shape))\n",
    "print('shape y test result : '+ str(y_test.shape))"
   ]
  },
  {
   "cell_type": "code",
   "execution_count": 7,
   "id": "2efaccda",
   "metadata": {},
   "outputs": [],
   "source": [
    "# chuẩn hóa dữ liệu\n",
    "mean = x_train.mean(axis=0)\n",
    "std = x_train.std(axis=0)\n",
    "\n",
    "x_train = (x_train - mean) / std"
   ]
  },
  {
   "cell_type": "code",
   "execution_count": 8,
   "id": "2c7b223a",
   "metadata": {},
   "outputs": [],
   "source": [
    "# xây dựng mô hình\n",
    "def create_model():\n",
    "    model = tf.keras.Sequential([\n",
    "        tf.keras.layers.Dense(64, activation='relu', input_shape=(4,)),\n",
    "        tf.keras.layers.Dropout(0.2),\n",
    "        tf.keras.layers.Dense(128, activation='relu', input_shape=(2,)),\n",
    "        tf.keras.layers.Dropout(0.2),\n",
    "        tf.keras.layers.Dense(256, activation='relu', input_shape=(2,)),\n",
    "        tf.keras.layers.Dense(3, activation='softmax')\n",
    "    ])\n",
    "\n",
    "    # Compile mô hình\n",
    "    model.compile(loss='categorical_crossentropy', optimizer='adam', metrics=['accuracy'])\n",
    "    \n",
    "    return model"
   ]
  },
  {
   "cell_type": "code",
   "execution_count": 9,
   "id": "7b20cc7a",
   "metadata": {},
   "outputs": [
    {
     "name": "stdout",
     "output_type": "stream",
     "text": [
      "Model: \"sequential\"\n",
      "_________________________________________________________________\n",
      " Layer (type)                Output Shape              Param #   \n",
      "=================================================================\n",
      " dense (Dense)               (None, 64)                320       \n",
      "                                                                 \n",
      " dropout (Dropout)           (None, 64)                0         \n",
      "                                                                 \n",
      " dense_1 (Dense)             (None, 128)               8320      \n",
      "                                                                 \n",
      " dropout_1 (Dropout)         (None, 128)               0         \n",
      "                                                                 \n",
      " dense_2 (Dense)             (None, 256)               33024     \n",
      "                                                                 \n",
      " dense_3 (Dense)             (None, 3)                 771       \n",
      "                                                                 \n",
      "=================================================================\n",
      "Total params: 42,435\n",
      "Trainable params: 42,435\n",
      "Non-trainable params: 0\n",
      "_________________________________________________________________\n"
     ]
    }
   ],
   "source": [
    "model = create_model()\n",
    "model.summary()"
   ]
  },
  {
   "cell_type": "code",
   "execution_count": 10,
   "id": "f7c65db4",
   "metadata": {},
   "outputs": [],
   "source": [
    "y_train_categorical = tf.keras.utils.to_categorical(y_train)"
   ]
  },
  {
   "cell_type": "code",
   "execution_count": 11,
   "id": "103a445c",
   "metadata": {},
   "outputs": [
    {
     "name": "stdout",
     "output_type": "stream",
     "text": [
      "Epoch 1/150\n",
      "1/1 [==============================] - 1s 983ms/step - loss: 1.1552 - accuracy: 0.3229 - val_loss: 1.0492 - val_accuracy: 0.6250\n",
      "Epoch 2/150\n",
      "1/1 [==============================] - 0s 43ms/step - loss: 1.0810 - accuracy: 0.4583 - val_loss: 0.9894 - val_accuracy: 0.8333\n",
      "Epoch 3/150\n",
      "1/1 [==============================] - 0s 37ms/step - loss: 1.0136 - accuracy: 0.7083 - val_loss: 0.9323 - val_accuracy: 0.8333\n",
      "Epoch 4/150\n",
      "1/1 [==============================] - 0s 41ms/step - loss: 0.9541 - accuracy: 0.8021 - val_loss: 0.8787 - val_accuracy: 0.8750\n",
      "Epoch 5/150\n",
      "1/1 [==============================] - 0s 41ms/step - loss: 0.9075 - accuracy: 0.8021 - val_loss: 0.8273 - val_accuracy: 0.8750\n",
      "Epoch 6/150\n",
      "1/1 [==============================] - 0s 34ms/step - loss: 0.8503 - accuracy: 0.7917 - val_loss: 0.7782 - val_accuracy: 0.8750\n",
      "Epoch 7/150\n",
      "1/1 [==============================] - 0s 42ms/step - loss: 0.7927 - accuracy: 0.8021 - val_loss: 0.7316 - val_accuracy: 0.8750\n",
      "Epoch 8/150\n",
      "1/1 [==============================] - 0s 50ms/step - loss: 0.7535 - accuracy: 0.8125 - val_loss: 0.6872 - val_accuracy: 0.8750\n",
      "Epoch 9/150\n",
      "1/1 [==============================] - 0s 60ms/step - loss: 0.6892 - accuracy: 0.8021 - val_loss: 0.6442 - val_accuracy: 0.8750\n",
      "Epoch 10/150\n",
      "1/1 [==============================] - 0s 39ms/step - loss: 0.6530 - accuracy: 0.8125 - val_loss: 0.6038 - val_accuracy: 0.8750\n",
      "Epoch 11/150\n",
      "1/1 [==============================] - 0s 43ms/step - loss: 0.6145 - accuracy: 0.8229 - val_loss: 0.5661 - val_accuracy: 0.8750\n",
      "Epoch 12/150\n",
      "1/1 [==============================] - 0s 35ms/step - loss: 0.5742 - accuracy: 0.8125 - val_loss: 0.5309 - val_accuracy: 0.8750\n",
      "Epoch 13/150\n",
      "1/1 [==============================] - 0s 34ms/step - loss: 0.5376 - accuracy: 0.8125 - val_loss: 0.4989 - val_accuracy: 0.8750\n",
      "Epoch 14/150\n",
      "1/1 [==============================] - 0s 40ms/step - loss: 0.5011 - accuracy: 0.7917 - val_loss: 0.4699 - val_accuracy: 0.8750\n",
      "Epoch 15/150\n",
      "1/1 [==============================] - 0s 39ms/step - loss: 0.4688 - accuracy: 0.8229 - val_loss: 0.4445 - val_accuracy: 0.8750\n",
      "Epoch 16/150\n",
      "1/1 [==============================] - 0s 47ms/step - loss: 0.4575 - accuracy: 0.8333 - val_loss: 0.4225 - val_accuracy: 0.8750\n",
      "Epoch 17/150\n",
      "1/1 [==============================] - 0s 44ms/step - loss: 0.4323 - accuracy: 0.7917 - val_loss: 0.4042 - val_accuracy: 0.8750\n",
      "Epoch 18/150\n",
      "1/1 [==============================] - 0s 39ms/step - loss: 0.4241 - accuracy: 0.7917 - val_loss: 0.3895 - val_accuracy: 0.8750\n",
      "Epoch 19/150\n",
      "1/1 [==============================] - 0s 40ms/step - loss: 0.3969 - accuracy: 0.8125 - val_loss: 0.3776 - val_accuracy: 0.8750\n",
      "Epoch 20/150\n",
      "1/1 [==============================] - 0s 41ms/step - loss: 0.3927 - accuracy: 0.7812 - val_loss: 0.3685 - val_accuracy: 0.8750\n",
      "Epoch 21/150\n",
      "1/1 [==============================] - 0s 44ms/step - loss: 0.3684 - accuracy: 0.8333 - val_loss: 0.3608 - val_accuracy: 0.8750\n",
      "Epoch 22/150\n",
      "1/1 [==============================] - 0s 53ms/step - loss: 0.3526 - accuracy: 0.8438 - val_loss: 0.3545 - val_accuracy: 0.8750\n",
      "Epoch 23/150\n",
      "1/1 [==============================] - 0s 39ms/step - loss: 0.3225 - accuracy: 0.8333 - val_loss: 0.3501 - val_accuracy: 0.8750\n",
      "Epoch 24/150\n",
      "1/1 [==============================] - 0s 40ms/step - loss: 0.3218 - accuracy: 0.8229 - val_loss: 0.3470 - val_accuracy: 0.8750\n",
      "Epoch 25/150\n",
      "1/1 [==============================] - 0s 40ms/step - loss: 0.3420 - accuracy: 0.8125 - val_loss: 0.3450 - val_accuracy: 0.9167\n",
      "Epoch 26/150\n",
      "1/1 [==============================] - 0s 41ms/step - loss: 0.3266 - accuracy: 0.8125 - val_loss: 0.3427 - val_accuracy: 0.9167\n",
      "Epoch 27/150\n",
      "1/1 [==============================] - 0s 37ms/step - loss: 0.3162 - accuracy: 0.8229 - val_loss: 0.3391 - val_accuracy: 0.9167\n",
      "Epoch 28/150\n",
      "1/1 [==============================] - 0s 42ms/step - loss: 0.2959 - accuracy: 0.8333 - val_loss: 0.3355 - val_accuracy: 0.9167\n",
      "Epoch 29/150\n",
      "1/1 [==============================] - 0s 37ms/step - loss: 0.3038 - accuracy: 0.8333 - val_loss: 0.3325 - val_accuracy: 0.9167\n",
      "Epoch 30/150\n",
      "1/1 [==============================] - 0s 36ms/step - loss: 0.2891 - accuracy: 0.8542 - val_loss: 0.3305 - val_accuracy: 0.9167\n",
      "Epoch 31/150\n",
      "1/1 [==============================] - 0s 41ms/step - loss: 0.2849 - accuracy: 0.8438 - val_loss: 0.3285 - val_accuracy: 0.9167\n",
      "Epoch 32/150\n",
      "1/1 [==============================] - 0s 37ms/step - loss: 0.2726 - accuracy: 0.8750 - val_loss: 0.3251 - val_accuracy: 0.9167\n",
      "Epoch 33/150\n",
      "1/1 [==============================] - 0s 35ms/step - loss: 0.2587 - accuracy: 0.8646 - val_loss: 0.3213 - val_accuracy: 0.9167\n",
      "Epoch 34/150\n",
      "1/1 [==============================] - 0s 36ms/step - loss: 0.2670 - accuracy: 0.8542 - val_loss: 0.3173 - val_accuracy: 0.9167\n",
      "Epoch 35/150\n",
      "1/1 [==============================] - 0s 36ms/step - loss: 0.2654 - accuracy: 0.8542 - val_loss: 0.3121 - val_accuracy: 0.9167\n",
      "Epoch 36/150\n",
      "1/1 [==============================] - 0s 37ms/step - loss: 0.2491 - accuracy: 0.8854 - val_loss: 0.3039 - val_accuracy: 0.9167\n",
      "Epoch 37/150\n",
      "1/1 [==============================] - 0s 37ms/step - loss: 0.2425 - accuracy: 0.8854 - val_loss: 0.2935 - val_accuracy: 0.9167\n",
      "Epoch 38/150\n",
      "1/1 [==============================] - 0s 50ms/step - loss: 0.2427 - accuracy: 0.8958 - val_loss: 0.2862 - val_accuracy: 0.9167\n",
      "Epoch 39/150\n",
      "1/1 [==============================] - 0s 43ms/step - loss: 0.2466 - accuracy: 0.8854 - val_loss: 0.2808 - val_accuracy: 0.9167\n",
      "Epoch 40/150\n",
      "1/1 [==============================] - 0s 36ms/step - loss: 0.2296 - accuracy: 0.8750 - val_loss: 0.2776 - val_accuracy: 0.9167\n",
      "Epoch 41/150\n",
      "1/1 [==============================] - 0s 37ms/step - loss: 0.2197 - accuracy: 0.9271 - val_loss: 0.2743 - val_accuracy: 0.9167\n",
      "Epoch 42/150\n",
      "1/1 [==============================] - 0s 37ms/step - loss: 0.2137 - accuracy: 0.8854 - val_loss: 0.2739 - val_accuracy: 0.9167\n",
      "Epoch 43/150\n",
      "1/1 [==============================] - 0s 33ms/step - loss: 0.2247 - accuracy: 0.8958 - val_loss: 0.2739 - val_accuracy: 0.9167\n",
      "Epoch 44/150\n",
      "1/1 [==============================] - 0s 37ms/step - loss: 0.2316 - accuracy: 0.8854 - val_loss: 0.2751 - val_accuracy: 0.9167\n",
      "Epoch 45/150\n",
      "1/1 [==============================] - 0s 37ms/step - loss: 0.2136 - accuracy: 0.9167 - val_loss: 0.2782 - val_accuracy: 0.9583\n",
      "Epoch 46/150\n",
      "1/1 [==============================] - 0s 37ms/step - loss: 0.2204 - accuracy: 0.9062 - val_loss: 0.2793 - val_accuracy: 0.9583\n",
      "Epoch 47/150\n",
      "1/1 [==============================] - 0s 40ms/step - loss: 0.1960 - accuracy: 0.9271 - val_loss: 0.2772 - val_accuracy: 0.9583\n",
      "Epoch 48/150\n",
      "1/1 [==============================] - 0s 48ms/step - loss: 0.2042 - accuracy: 0.9271 - val_loss: 0.2709 - val_accuracy: 0.9583\n",
      "Epoch 49/150\n",
      "1/1 [==============================] - 0s 48ms/step - loss: 0.1869 - accuracy: 0.9583 - val_loss: 0.2618 - val_accuracy: 0.9583\n",
      "Epoch 50/150\n",
      "1/1 [==============================] - 0s 44ms/step - loss: 0.1918 - accuracy: 0.9271 - val_loss: 0.2533 - val_accuracy: 0.9583\n",
      "Epoch 51/150\n",
      "1/1 [==============================] - 0s 37ms/step - loss: 0.2002 - accuracy: 0.9167 - val_loss: 0.2505 - val_accuracy: 0.9583\n",
      "Epoch 52/150\n",
      "1/1 [==============================] - 0s 36ms/step - loss: 0.1491 - accuracy: 0.9583 - val_loss: 0.2528 - val_accuracy: 0.9583\n",
      "Epoch 53/150\n",
      "1/1 [==============================] - 0s 53ms/step - loss: 0.1633 - accuracy: 0.9479 - val_loss: 0.2550 - val_accuracy: 0.9583\n",
      "Epoch 54/150\n",
      "1/1 [==============================] - 0s 39ms/step - loss: 0.1398 - accuracy: 0.9583 - val_loss: 0.2496 - val_accuracy: 0.9583\n",
      "Epoch 55/150\n",
      "1/1 [==============================] - 0s 34ms/step - loss: 0.1146 - accuracy: 0.9896 - val_loss: 0.2432 - val_accuracy: 0.9583\n",
      "Epoch 56/150\n",
      "1/1 [==============================] - 0s 37ms/step - loss: 0.1496 - accuracy: 0.9479 - val_loss: 0.2378 - val_accuracy: 0.9583\n",
      "Epoch 57/150\n",
      "1/1 [==============================] - 0s 35ms/step - loss: 0.1923 - accuracy: 0.9167 - val_loss: 0.2244 - val_accuracy: 0.9583\n",
      "Epoch 58/150\n",
      "1/1 [==============================] - 0s 35ms/step - loss: 0.1291 - accuracy: 0.9479 - val_loss: 0.2143 - val_accuracy: 0.9583\n",
      "Epoch 59/150\n"
     ]
    },
    {
     "name": "stdout",
     "output_type": "stream",
     "text": [
      "1/1 [==============================] - 0s 32ms/step - loss: 0.1561 - accuracy: 0.9479 - val_loss: 0.2113 - val_accuracy: 0.9583\n",
      "Epoch 60/150\n",
      "1/1 [==============================] - 0s 32ms/step - loss: 0.1441 - accuracy: 0.9375 - val_loss: 0.2123 - val_accuracy: 0.9583\n",
      "Epoch 61/150\n",
      "1/1 [==============================] - 0s 34ms/step - loss: 0.1727 - accuracy: 0.9271 - val_loss: 0.2153 - val_accuracy: 0.9583\n",
      "Epoch 62/150\n",
      "1/1 [==============================] - 0s 32ms/step - loss: 0.1541 - accuracy: 0.9479 - val_loss: 0.2249 - val_accuracy: 0.9583\n",
      "Epoch 63/150\n",
      "1/1 [==============================] - 0s 35ms/step - loss: 0.1016 - accuracy: 0.9792 - val_loss: 0.2387 - val_accuracy: 0.9583\n",
      "Epoch 64/150\n",
      "1/1 [==============================] - 0s 31ms/step - loss: 0.1130 - accuracy: 0.9583 - val_loss: 0.2601 - val_accuracy: 0.9167\n",
      "Epoch 65/150\n",
      "1/1 [==============================] - 0s 33ms/step - loss: 0.1167 - accuracy: 0.9583 - val_loss: 0.2797 - val_accuracy: 0.9167\n",
      "Epoch 66/150\n",
      "1/1 [==============================] - 0s 33ms/step - loss: 0.1258 - accuracy: 0.9583 - val_loss: 0.2814 - val_accuracy: 0.9167\n",
      "Epoch 67/150\n",
      "1/1 [==============================] - 0s 33ms/step - loss: 0.1099 - accuracy: 0.9792 - val_loss: 0.2728 - val_accuracy: 0.9167\n",
      "Epoch 68/150\n",
      "1/1 [==============================] - 0s 45ms/step - loss: 0.1445 - accuracy: 0.9375 - val_loss: 0.2531 - val_accuracy: 0.9167\n"
     ]
    }
   ],
   "source": [
    "# Thiết lập hàm call back Early Stopping\n",
    "callback = tf.keras.callbacks.EarlyStopping(monitor='val_loss', min_delta=0.01, mode=\"auto\", patience=10, restore_best_weights=True)\n",
    "\n",
    "# Huấn luyện mô hình\n",
    "history = model.fit(x_train, y_train_categorical, epochs=150, batch_size=128, validation_split=0.2, shuffle=True, callbacks = callback)"
   ]
  },
  {
   "cell_type": "code",
   "execution_count": null,
   "id": "eb2149d1",
   "metadata": {},
   "outputs": [],
   "source": [
    "import matplotlib.pyplot as plt\n",
    "plt.plot(history.history['loss'], label='loss')\n",
    "plt.plot(history.history['val_loss'], label = 'val_loss')\n",
    "plt.xlabel('Epoch')\n",
    "plt.ylabel('Loss')\n",
    "plt.legend(loc='lower right')\n",
    "plt.show()"
   ]
  },
  {
   "cell_type": "code",
   "execution_count": 12,
   "id": "21aad179",
   "metadata": {},
   "outputs": [],
   "source": [
    "import numpy as np\n",
    "# hàm dự đoán\n",
    "def predict(model, x):\n",
    "    x = (x - mean) / std\n",
    "    y_pred = model.predict(x) # dự đoán xác suất cho mỗi loài hoa\n",
    "    return np.argmax(y_pred, axis=1) # chọn loài hoa có xác suất cao nhất"
   ]
  },
  {
   "cell_type": "code",
   "execution_count": 14,
   "id": "2ed287ce",
   "metadata": {},
   "outputs": [
    {
     "name": "stdout",
     "output_type": "stream",
     "text": [
      "1/1 [==============================] - 0s 20ms/step\n",
      "pred: versicolor, y = versicolor\n",
      "pred: setosa, y = setosa\n",
      "pred: virginica, y = virginica\n",
      "pred: virginica, y = versicolor\n",
      "pred: versicolor, y = versicolor\n",
      "pred: setosa, y = setosa\n",
      "pred: versicolor, y = versicolor\n",
      "pred: virginica, y = virginica\n",
      "pred: virginica, y = versicolor\n",
      "pred: versicolor, y = versicolor\n",
      "pred: virginica, y = virginica\n",
      "pred: setosa, y = setosa\n",
      "pred: setosa, y = setosa\n",
      "pred: setosa, y = setosa\n",
      "pred: setosa, y = setosa\n",
      "pred: versicolor, y = versicolor\n",
      "pred: virginica, y = virginica\n",
      "pred: versicolor, y = versicolor\n",
      "pred: versicolor, y = versicolor\n",
      "pred: virginica, y = virginica\n",
      "pred: setosa, y = setosa\n",
      "pred: virginica, y = virginica\n",
      "pred: setosa, y = setosa\n",
      "pred: virginica, y = virginica\n",
      "pred: virginica, y = virginica\n",
      "pred: virginica, y = virginica\n",
      "pred: virginica, y = virginica\n",
      "pred: virginica, y = virginica\n",
      "pred: setosa, y = setosa\n",
      "pred: setosa, y = setosa\n"
     ]
    }
   ],
   "source": [
    "# dự đoán tập test\n",
    "y_pred = predict(model, x_test)\n",
    "for i, pred in enumerate(y_pred):\n",
    "    print(f'pred: {label[pred]}, y = {label[y_test[i]]}')"
   ]
  },
  {
   "cell_type": "code",
   "execution_count": null,
   "id": "bef3de13",
   "metadata": {},
   "outputs": [],
   "source": []
  },
  {
   "cell_type": "code",
   "execution_count": null,
   "id": "4d89ac35",
   "metadata": {},
   "outputs": [],
   "source": []
  }
 ],
 "metadata": {
  "kernelspec": {
   "display_name": "Python 3 (ipykernel)",
   "language": "python",
   "name": "python3"
  },
  "language_info": {
   "codemirror_mode": {
    "name": "ipython",
    "version": 3
   },
   "file_extension": ".py",
   "mimetype": "text/x-python",
   "name": "python",
   "nbconvert_exporter": "python",
   "pygments_lexer": "ipython3",
   "version": "3.9.5"
  }
 },
 "nbformat": 4,
 "nbformat_minor": 5
}
